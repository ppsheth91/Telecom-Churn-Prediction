{
 "cells": [
  {
   "cell_type": "code",
   "execution_count": 1,
   "metadata": {
    "collapsed": false
   },
   "outputs": [],
   "source": [
    "import pandas as pd\n",
    "import numpy as np\n",
    "import matplotlib.pyplot as plt\n",
    "import os\n",
    "import seaborn as sns"
   ]
  },
  {
   "cell_type": "code",
   "execution_count": null,
   "metadata": {
    "collapsed": true
   },
   "outputs": [],
   "source": [
    "# Project : Telecom churn data, where we need to build a ML model, which can help to predict whether a customer would churn or not depending on the current data plans #"
   ]
  },
  {
   "cell_type": "code",
   "execution_count": 4,
   "metadata": {
    "collapsed": false,
    "scrolled": true
   },
   "outputs": [
    {
     "data": {
      "text/html": [
       "<div>\n",
       "<table border=\"1\" class=\"dataframe\">\n",
       "  <thead>\n",
       "    <tr style=\"text-align: right;\">\n",
       "      <th></th>\n",
       "      <th>Account Length</th>\n",
       "      <th>VMail Message</th>\n",
       "      <th>Day Mins</th>\n",
       "      <th>Eve Mins</th>\n",
       "      <th>Night Mins</th>\n",
       "      <th>Intl Mins</th>\n",
       "      <th>CustServ Calls</th>\n",
       "      <th>Churn</th>\n",
       "      <th>Intl Plan</th>\n",
       "      <th>VMail Plan</th>\n",
       "      <th>...</th>\n",
       "      <th>Daily Charges MV</th>\n",
       "      <th>Eve Calls</th>\n",
       "      <th>Eve Charge</th>\n",
       "      <th>Night Calls</th>\n",
       "      <th>Night Charge</th>\n",
       "      <th>Intl Calls</th>\n",
       "      <th>Intl Charge</th>\n",
       "      <th>State</th>\n",
       "      <th>Area Code</th>\n",
       "      <th>Phone</th>\n",
       "    </tr>\n",
       "  </thead>\n",
       "  <tbody>\n",
       "    <tr>\n",
       "      <th>0</th>\n",
       "      <td>NaN</td>\n",
       "      <td>NaN</td>\n",
       "      <td>NaN</td>\n",
       "      <td>NaN</td>\n",
       "      <td>NaN</td>\n",
       "      <td>NaN</td>\n",
       "      <td>NaN</td>\n",
       "      <td>NaN</td>\n",
       "      <td>NaN</td>\n",
       "      <td>NaN</td>\n",
       "      <td>...</td>\n",
       "      <td>NaN</td>\n",
       "      <td>NaN</td>\n",
       "      <td>NaN</td>\n",
       "      <td>NaN</td>\n",
       "      <td>NaN</td>\n",
       "      <td>NaN</td>\n",
       "      <td>NaN</td>\n",
       "      <td>NaN</td>\n",
       "      <td>NaN</td>\n",
       "      <td>NaN</td>\n",
       "    </tr>\n",
       "    <tr>\n",
       "      <th>1</th>\n",
       "      <td>128.0</td>\n",
       "      <td>25.0</td>\n",
       "      <td>265.1</td>\n",
       "      <td>197.4</td>\n",
       "      <td>244.7</td>\n",
       "      <td>10.0</td>\n",
       "      <td>1.0</td>\n",
       "      <td>0.0</td>\n",
       "      <td>0.0</td>\n",
       "      <td>1.0</td>\n",
       "      <td>...</td>\n",
       "      <td>45.07</td>\n",
       "      <td>99.0</td>\n",
       "      <td>16.78</td>\n",
       "      <td>91.0</td>\n",
       "      <td>11.01</td>\n",
       "      <td>3.0</td>\n",
       "      <td>2.7</td>\n",
       "      <td>KS</td>\n",
       "      <td>415.0</td>\n",
       "      <td>382-4657</td>\n",
       "    </tr>\n",
       "    <tr>\n",
       "      <th>2</th>\n",
       "      <td>NaN</td>\n",
       "      <td>NaN</td>\n",
       "      <td>NaN</td>\n",
       "      <td>NaN</td>\n",
       "      <td>NaN</td>\n",
       "      <td>NaN</td>\n",
       "      <td>NaN</td>\n",
       "      <td>NaN</td>\n",
       "      <td>NaN</td>\n",
       "      <td>NaN</td>\n",
       "      <td>...</td>\n",
       "      <td>NaN</td>\n",
       "      <td>NaN</td>\n",
       "      <td>NaN</td>\n",
       "      <td>NaN</td>\n",
       "      <td>NaN</td>\n",
       "      <td>NaN</td>\n",
       "      <td>NaN</td>\n",
       "      <td>NaN</td>\n",
       "      <td>NaN</td>\n",
       "      <td>NaN</td>\n",
       "    </tr>\n",
       "    <tr>\n",
       "      <th>3</th>\n",
       "      <td>107.0</td>\n",
       "      <td>26.0</td>\n",
       "      <td>161.6</td>\n",
       "      <td>195.5</td>\n",
       "      <td>254.4</td>\n",
       "      <td>13.7</td>\n",
       "      <td>1.0</td>\n",
       "      <td>0.0</td>\n",
       "      <td>0.0</td>\n",
       "      <td>1.0</td>\n",
       "      <td>...</td>\n",
       "      <td>27.47</td>\n",
       "      <td>103.0</td>\n",
       "      <td>16.62</td>\n",
       "      <td>103.0</td>\n",
       "      <td>11.45</td>\n",
       "      <td>3.0</td>\n",
       "      <td>3.7</td>\n",
       "      <td>OH</td>\n",
       "      <td>415.0</td>\n",
       "      <td>371-7191</td>\n",
       "    </tr>\n",
       "    <tr>\n",
       "      <th>4</th>\n",
       "      <td>NaN</td>\n",
       "      <td>NaN</td>\n",
       "      <td>NaN</td>\n",
       "      <td>NaN</td>\n",
       "      <td>NaN</td>\n",
       "      <td>NaN</td>\n",
       "      <td>NaN</td>\n",
       "      <td>NaN</td>\n",
       "      <td>NaN</td>\n",
       "      <td>NaN</td>\n",
       "      <td>...</td>\n",
       "      <td>NaN</td>\n",
       "      <td>NaN</td>\n",
       "      <td>NaN</td>\n",
       "      <td>NaN</td>\n",
       "      <td>NaN</td>\n",
       "      <td>NaN</td>\n",
       "      <td>NaN</td>\n",
       "      <td>NaN</td>\n",
       "      <td>NaN</td>\n",
       "      <td>NaN</td>\n",
       "    </tr>\n",
       "  </tbody>\n",
       "</table>\n",
       "<p>5 rows × 22 columns</p>\n",
       "</div>"
      ],
      "text/plain": [
       "   Account Length  VMail Message  Day Mins  Eve Mins  Night Mins  Intl Mins  \\\n",
       "0             NaN            NaN       NaN       NaN         NaN        NaN   \n",
       "1           128.0           25.0     265.1     197.4       244.7       10.0   \n",
       "2             NaN            NaN       NaN       NaN         NaN        NaN   \n",
       "3           107.0           26.0     161.6     195.5       254.4       13.7   \n",
       "4             NaN            NaN       NaN       NaN         NaN        NaN   \n",
       "\n",
       "   CustServ Calls  Churn  Intl Plan  VMail Plan    ...     Daily Charges MV  \\\n",
       "0             NaN    NaN        NaN         NaN    ...                  NaN   \n",
       "1             1.0    0.0        0.0         1.0    ...                45.07   \n",
       "2             NaN    NaN        NaN         NaN    ...                  NaN   \n",
       "3             1.0    0.0        0.0         1.0    ...                27.47   \n",
       "4             NaN    NaN        NaN         NaN    ...                  NaN   \n",
       "\n",
       "   Eve Calls  Eve Charge  Night Calls  Night Charge  Intl Calls  Intl Charge  \\\n",
       "0        NaN         NaN          NaN           NaN         NaN          NaN   \n",
       "1       99.0       16.78         91.0         11.01         3.0          2.7   \n",
       "2        NaN         NaN          NaN           NaN         NaN          NaN   \n",
       "3      103.0       16.62        103.0         11.45         3.0          3.7   \n",
       "4        NaN         NaN          NaN           NaN         NaN          NaN   \n",
       "\n",
       "   State  Area Code     Phone  \n",
       "0    NaN        NaN       NaN  \n",
       "1     KS      415.0  382-4657  \n",
       "2    NaN        NaN       NaN  \n",
       "3     OH      415.0  371-7191  \n",
       "4    NaN        NaN       NaN  \n",
       "\n",
       "[5 rows x 22 columns]"
      ]
     },
     "execution_count": 4,
     "metadata": {},
     "output_type": "execute_result"
    }
   ],
   "source": [
    "os.chdir(\"E:\\Data Science\\R Programs\\Csv files\")\n",
    "os.getcwd()\n",
    "df = pd.read_csv(\"Churn_MV.csv\")\n",
    "\n",
    "df.head()"
   ]
  },
  {
   "cell_type": "code",
   "execution_count": 6,
   "metadata": {
    "collapsed": false
   },
   "outputs": [
    {
     "data": {
      "text/plain": [
       "Index(['Account Length', 'VMail Message', 'Day Mins', 'Eve Mins', 'Night Mins',\n",
       "       'Intl Mins', 'CustServ Calls', 'Churn', 'Intl Plan', 'VMail Plan',\n",
       "       'Day Calls', 'Day Charge', 'Daily Charges MV', 'Eve Calls',\n",
       "       'Eve Charge', 'Night Calls', 'Night Charge', 'Intl Calls',\n",
       "       'Intl Charge', 'State', 'Area Code', 'Phone'],\n",
       "      dtype='object')"
      ]
     },
     "execution_count": 6,
     "metadata": {},
     "output_type": "execute_result"
    }
   ],
   "source": [
    "df.columns\n"
   ]
  },
  {
   "cell_type": "code",
   "execution_count": 167,
   "metadata": {
    "collapsed": false
   },
   "outputs": [
    {
     "name": "stdout",
     "output_type": "stream",
     "text": [
      "<class 'pandas.core.frame.DataFrame'>\n",
      "RangeIndex: 6666 entries, 0 to 6665\n",
      "Data columns (total 22 columns):\n",
      "Account Length      3333 non-null float64\n",
      "VMail Message       3333 non-null float64\n",
      "Day Mins            3333 non-null float64\n",
      "Eve Mins            3333 non-null float64\n",
      "Night Mins          3333 non-null float64\n",
      "Intl Mins           3333 non-null float64\n",
      "CustServ Calls      3333 non-null float64\n",
      "Churn               3333 non-null float64\n",
      "Intl Plan           3333 non-null float64\n",
      "VMail Plan          3333 non-null float64\n",
      "Day Calls           3333 non-null float64\n",
      "Day Charge          3333 non-null float64\n",
      "Daily Charges MV    3283 non-null float64\n",
      "Eve Calls           3333 non-null float64\n",
      "Eve Charge          3333 non-null float64\n",
      "Night Calls         3333 non-null float64\n",
      "Night Charge        3333 non-null float64\n",
      "Intl Calls          3333 non-null float64\n",
      "Intl Charge         3333 non-null float64\n",
      "State               3333 non-null object\n",
      "Area Code           3333 non-null float64\n",
      "Phone               3333 non-null object\n",
      "dtypes: float64(20), object(2)\n",
      "memory usage: 1.1+ MB\n"
     ]
    }
   ],
   "source": [
    "df.info()"
   ]
  },
  {
   "cell_type": "code",
   "execution_count": 5,
   "metadata": {
    "collapsed": false
   },
   "outputs": [
    {
     "name": "stdout",
     "output_type": "stream",
     "text": [
      "<class 'pandas.core.frame.DataFrame'>\n",
      "RangeIndex: 6666 entries, 0 to 6665\n",
      "Data columns (total 22 columns):\n",
      "Account Length      3333 non-null float64\n",
      "VMail Message       3333 non-null float64\n",
      "Day Mins            3333 non-null float64\n",
      "Eve Mins            3333 non-null float64\n",
      "Night Mins          3333 non-null float64\n",
      "Intl Mins           3333 non-null float64\n",
      "CustServ Calls      3333 non-null float64\n",
      "Churn               3333 non-null float64\n",
      "Intl Plan           3333 non-null float64\n",
      "VMail Plan          3333 non-null float64\n",
      "Day Calls           3333 non-null float64\n",
      "Day Charge          3333 non-null float64\n",
      "Daily Charges MV    3283 non-null float64\n",
      "Eve Calls           3333 non-null float64\n",
      "Eve Charge          3333 non-null float64\n",
      "Night Calls         3333 non-null float64\n",
      "Night Charge        3333 non-null float64\n",
      "Intl Calls          3333 non-null float64\n",
      "Intl Charge         3333 non-null float64\n",
      "State               3333 non-null object\n",
      "Area Code           3333 non-null float64\n",
      "Phone               3333 non-null object\n",
      "dtypes: float64(20), object(2)\n",
      "memory usage: 1.1+ MB\n",
      "<class 'pandas.core.frame.DataFrame'>\n",
      "RangeIndex: 6666 entries, 0 to 6665\n",
      "Data columns (total 22 columns):\n",
      "Account Length      3333 non-null float64\n",
      "VMail Message       3333 non-null float64\n",
      "Day Mins            3333 non-null float64\n",
      "Eve Mins            3333 non-null float64\n",
      "Night Mins          3333 non-null float64\n",
      "Intl Mins           3333 non-null float64\n",
      "CustServ Calls      3333 non-null float64\n",
      "Churn               3333 non-null category\n",
      "Intl Plan           3333 non-null category\n",
      "VMail Plan          3333 non-null category\n",
      "Day Calls           3333 non-null float64\n",
      "Day Charge          3333 non-null float64\n",
      "Daily Charges MV    3283 non-null float64\n",
      "Eve Calls           3333 non-null float64\n",
      "Eve Charge          3333 non-null float64\n",
      "Night Calls         3333 non-null float64\n",
      "Night Charge        3333 non-null float64\n",
      "Intl Calls          3333 non-null float64\n",
      "Intl Charge         3333 non-null float64\n",
      "State               3333 non-null object\n",
      "Area Code           3333 non-null float64\n",
      "Phone               3333 non-null object\n",
      "dtypes: category(3), float64(17), object(2)\n",
      "memory usage: 1009.1+ KB\n"
     ]
    }
   ],
   "source": [
    "# Looking at the data, we need to understand tge data types #\n",
    "\n",
    "df.info()\n",
    "# 1) Check the variable type, Feature transformation#\n",
    "\n",
    "# daily charges MV has missing values, churn, Intl plan, Vmail plan are of float type, which needs to be chnages to categorical type #\n",
    "\n",
    "df['Churn'] = df['Churn'].astype('category')\n",
    "df['Intl Plan'] = df['Intl Plan'].astype('category')\n",
    "df['VMail Plan'] = df['VMail Plan'].astype('category')\n",
    "\n",
    "df.info()"
   ]
  },
  {
   "cell_type": "code",
   "execution_count": 6,
   "metadata": {
    "collapsed": false
   },
   "outputs": [
    {
     "name": "stdout",
     "output_type": "stream",
     "text": [
      "<class 'pandas.core.frame.DataFrame'>\n",
      "RangeIndex: 6666 entries, 0 to 6665\n",
      "Data columns (total 19 columns):\n",
      "Account Length      3333 non-null float64\n",
      "VMail Message       3333 non-null float64\n",
      "Day Mins            3333 non-null float64\n",
      "Eve Mins            3333 non-null float64\n",
      "Night Mins          3333 non-null float64\n",
      "Intl Mins           3333 non-null float64\n",
      "CustServ Calls      3333 non-null float64\n",
      "Churn               3333 non-null category\n",
      "Intl Plan           3333 non-null category\n",
      "VMail Plan          3333 non-null category\n",
      "Day Calls           3333 non-null float64\n",
      "Day Charge          3333 non-null float64\n",
      "Daily Charges MV    3283 non-null float64\n",
      "Eve Calls           3333 non-null float64\n",
      "Eve Charge          3333 non-null float64\n",
      "Night Calls         3333 non-null float64\n",
      "Night Charge        3333 non-null float64\n",
      "Intl Calls          3333 non-null float64\n",
      "Intl Charge         3333 non-null float64\n",
      "dtypes: category(3), float64(16)\n",
      "memory usage: 852.9 KB\n"
     ]
    }
   ],
   "source": [
    "# There aere unwanted colummns which are not required for analysis : State, Area Code, Phone can be dropped\n",
    "\n",
    "df = df.drop(['State','Area Code','Phone'],axis=1)\n",
    "\n",
    "df.info()\n"
   ]
  },
  {
   "cell_type": "code",
   "execution_count": 20,
   "metadata": {
    "collapsed": false
   },
   "outputs": [
    {
     "data": {
      "text/plain": [
       "Index(['Account Length', 'VMail Message', 'CustServ Calls', 'Churn',\n",
       "       'Intl Plan', 'VMail Plan', 'Day Calls', 'Day Charge', 'Eve Calls',\n",
       "       'Eve Charge', 'Night Calls', 'Night Charge', 'Intl Calls',\n",
       "       'Intl Charge'],\n",
       "      dtype='object')"
      ]
     },
     "execution_count": 20,
     "metadata": {},
     "output_type": "execute_result"
    }
   ],
   "source": [
    "df.columns\n",
    "\n"
   ]
  },
  {
   "cell_type": "code",
   "execution_count": 7,
   "metadata": {
    "collapsed": false
   },
   "outputs": [
    {
     "name": "stdout",
     "output_type": "stream",
     "text": [
      "(6666, 19)\n",
      "(3333, 19)\n"
     ]
    }
   ],
   "source": [
    "# 2) Missing valies #\n",
    "print(df.shape)\n",
    "\n",
    "# Shape : (6666,19)\n",
    "# 1st we will remove the missing values rows, i.e rows which contain all elements as missing #\n",
    "\n",
    "df = df.dropna(how='all',axis=0)\n",
    "print(df.shape)"
   ]
  },
  {
   "cell_type": "code",
   "execution_count": 85,
   "metadata": {
    "collapsed": false
   },
   "outputs": [
    {
     "data": {
      "text/plain": [
       "3333"
      ]
     },
     "execution_count": 85,
     "metadata": {},
     "output_type": "execute_result"
    }
   ],
   "source": [
    "len(df)"
   ]
  },
  {
   "cell_type": "code",
   "execution_count": 8,
   "metadata": {
    "collapsed": false
   },
   "outputs": [],
   "source": [
    "df.isnull().sum() \n",
    "\n",
    "# There are 50 missing values in Daily Charges MV # We can impute it with the help of mean or median #\n",
    "\n",
    "df['Daily Charges MV'] = df['Daily Charges MV'].fillna(df['Daily Charges MV'].median())\n"
   ]
  },
  {
   "cell_type": "code",
   "execution_count": 8,
   "metadata": {
    "collapsed": false
   },
   "outputs": [
    {
     "data": {
      "text/plain": [
       "0"
      ]
     },
     "execution_count": 8,
     "metadata": {},
     "output_type": "execute_result"
    }
   ],
   "source": [
    "df.isnull().sum().sum()\n"
   ]
  },
  {
   "cell_type": "code",
   "execution_count": 8,
   "metadata": {
    "collapsed": false
   },
   "outputs": [
    {
     "name": "stdout",
     "output_type": "stream",
     "text": [
      "0\n"
     ]
    }
   ],
   "source": [
    "print(df['Daily Charges MV'].isnull().sum())"
   ]
  },
  {
   "cell_type": "code",
   "execution_count": 9,
   "metadata": {
    "collapsed": false
   },
   "outputs": [
    {
     "name": "stdout",
     "output_type": "stream",
     "text": [
      "       Account Length  VMail Message  Day Mins  Eve Mins  Night Mins  \\\n",
      "Churn                                                                  \n",
      "0.0          287262.0        24523.0  499250.9  567273.4    570379.6   \n",
      "1.0           49587.0         2471.0   99939.5  102594.1     99126.9   \n",
      "\n",
      "       Intl Mins  CustServ Calls  Day Calls  Day Charge  Daily Charges MV  \\\n",
      "Churn                                                                       \n",
      "0.0      28952.8          4132.0   285807.0    84874.20          84861.62   \n",
      "1.0       5168.1          1077.0    48945.0    16989.97          16904.78   \n",
      "\n",
      "       Eve Calls  Eve Charge  Night Calls  Night Charge  Intl Calls  \\\n",
      "Churn                                                                 \n",
      "0.0     285110.0    48218.89     285166.0      25667.31     12919.0   \n",
      "1.0      48571.0     8720.55      48493.0       4460.76      2011.0   \n",
      "\n",
      "       Intl Charge  \n",
      "Churn               \n",
      "0.0        7818.70  \n",
      "1.0        1395.65  \n",
      "(3333, 18)\n"
     ]
    }
   ],
   "source": [
    "# 3) Check for duplicates rows or columns, we can drop them #\n",
    "\n",
    "e = print(df.groupby(df['Churn']).sum())\n",
    "e\n",
    "df = df.drop_duplicates()\n",
    "df.shape\n",
    "# two variables : Day Charges and Daily Charges MV, we can drop any one of the variable : Daily Charges MV \n",
    "\n",
    "df = df.drop(['Daily Charges MV'],axis=1)\n",
    "print(df.shape)"
   ]
  },
  {
   "cell_type": "code",
   "execution_count": 40,
   "metadata": {
    "collapsed": false
   },
   "outputs": [
    {
     "data": {
      "text/html": [
       "<div>\n",
       "<table border=\"1\" class=\"dataframe\">\n",
       "  <thead>\n",
       "    <tr style=\"text-align: right;\">\n",
       "      <th></th>\n",
       "      <th>Account Length</th>\n",
       "      <th>VMail Message</th>\n",
       "      <th>Day Mins</th>\n",
       "      <th>Eve Mins</th>\n",
       "      <th>Night Mins</th>\n",
       "      <th>Intl Mins</th>\n",
       "      <th>CustServ Calls</th>\n",
       "      <th>Day Calls</th>\n",
       "      <th>Day Charge</th>\n",
       "      <th>Eve Calls</th>\n",
       "      <th>Eve Charge</th>\n",
       "      <th>Night Calls</th>\n",
       "      <th>Night Charge</th>\n",
       "      <th>Intl Calls</th>\n",
       "      <th>Intl Charge</th>\n",
       "    </tr>\n",
       "  </thead>\n",
       "  <tbody>\n",
       "    <tr>\n",
       "      <th>count</th>\n",
       "      <td>3333.000000</td>\n",
       "      <td>3333.000000</td>\n",
       "      <td>3333.000000</td>\n",
       "      <td>3333.000000</td>\n",
       "      <td>3333.000000</td>\n",
       "      <td>3333.000000</td>\n",
       "      <td>3333.000000</td>\n",
       "      <td>3333.000000</td>\n",
       "      <td>3333.000000</td>\n",
       "      <td>3333.000000</td>\n",
       "      <td>3333.000000</td>\n",
       "      <td>3333.000000</td>\n",
       "      <td>3333.000000</td>\n",
       "      <td>3333.000000</td>\n",
       "      <td>3333.000000</td>\n",
       "    </tr>\n",
       "    <tr>\n",
       "      <th>mean</th>\n",
       "      <td>101.064806</td>\n",
       "      <td>8.099010</td>\n",
       "      <td>179.775098</td>\n",
       "      <td>200.980348</td>\n",
       "      <td>200.872037</td>\n",
       "      <td>10.237294</td>\n",
       "      <td>1.562856</td>\n",
       "      <td>100.435644</td>\n",
       "      <td>30.562307</td>\n",
       "      <td>100.114311</td>\n",
       "      <td>17.083540</td>\n",
       "      <td>100.107711</td>\n",
       "      <td>9.039325</td>\n",
       "      <td>4.479448</td>\n",
       "      <td>2.764581</td>\n",
       "    </tr>\n",
       "    <tr>\n",
       "      <th>std</th>\n",
       "      <td>39.822106</td>\n",
       "      <td>13.688365</td>\n",
       "      <td>54.467389</td>\n",
       "      <td>50.713844</td>\n",
       "      <td>50.573847</td>\n",
       "      <td>2.791840</td>\n",
       "      <td>1.315491</td>\n",
       "      <td>20.069084</td>\n",
       "      <td>9.259435</td>\n",
       "      <td>19.922625</td>\n",
       "      <td>4.310668</td>\n",
       "      <td>19.568609</td>\n",
       "      <td>2.275873</td>\n",
       "      <td>2.461214</td>\n",
       "      <td>0.753773</td>\n",
       "    </tr>\n",
       "    <tr>\n",
       "      <th>min</th>\n",
       "      <td>1.000000</td>\n",
       "      <td>0.000000</td>\n",
       "      <td>0.000000</td>\n",
       "      <td>0.000000</td>\n",
       "      <td>23.200000</td>\n",
       "      <td>0.000000</td>\n",
       "      <td>0.000000</td>\n",
       "      <td>0.000000</td>\n",
       "      <td>0.000000</td>\n",
       "      <td>0.000000</td>\n",
       "      <td>0.000000</td>\n",
       "      <td>33.000000</td>\n",
       "      <td>1.040000</td>\n",
       "      <td>0.000000</td>\n",
       "      <td>0.000000</td>\n",
       "    </tr>\n",
       "    <tr>\n",
       "      <th>25%</th>\n",
       "      <td>74.000000</td>\n",
       "      <td>0.000000</td>\n",
       "      <td>143.700000</td>\n",
       "      <td>166.600000</td>\n",
       "      <td>167.000000</td>\n",
       "      <td>8.500000</td>\n",
       "      <td>1.000000</td>\n",
       "      <td>87.000000</td>\n",
       "      <td>24.430000</td>\n",
       "      <td>87.000000</td>\n",
       "      <td>14.160000</td>\n",
       "      <td>87.000000</td>\n",
       "      <td>7.520000</td>\n",
       "      <td>3.000000</td>\n",
       "      <td>2.300000</td>\n",
       "    </tr>\n",
       "    <tr>\n",
       "      <th>50%</th>\n",
       "      <td>101.000000</td>\n",
       "      <td>0.000000</td>\n",
       "      <td>179.400000</td>\n",
       "      <td>201.400000</td>\n",
       "      <td>201.200000</td>\n",
       "      <td>10.300000</td>\n",
       "      <td>1.000000</td>\n",
       "      <td>101.000000</td>\n",
       "      <td>30.500000</td>\n",
       "      <td>100.000000</td>\n",
       "      <td>17.120000</td>\n",
       "      <td>100.000000</td>\n",
       "      <td>9.050000</td>\n",
       "      <td>4.000000</td>\n",
       "      <td>2.780000</td>\n",
       "    </tr>\n",
       "    <tr>\n",
       "      <th>75%</th>\n",
       "      <td>127.000000</td>\n",
       "      <td>20.000000</td>\n",
       "      <td>216.400000</td>\n",
       "      <td>235.300000</td>\n",
       "      <td>235.300000</td>\n",
       "      <td>12.100000</td>\n",
       "      <td>2.000000</td>\n",
       "      <td>114.000000</td>\n",
       "      <td>36.790000</td>\n",
       "      <td>114.000000</td>\n",
       "      <td>20.000000</td>\n",
       "      <td>113.000000</td>\n",
       "      <td>10.590000</td>\n",
       "      <td>6.000000</td>\n",
       "      <td>3.270000</td>\n",
       "    </tr>\n",
       "    <tr>\n",
       "      <th>max</th>\n",
       "      <td>243.000000</td>\n",
       "      <td>51.000000</td>\n",
       "      <td>350.800000</td>\n",
       "      <td>363.700000</td>\n",
       "      <td>395.000000</td>\n",
       "      <td>20.000000</td>\n",
       "      <td>9.000000</td>\n",
       "      <td>165.000000</td>\n",
       "      <td>59.640000</td>\n",
       "      <td>170.000000</td>\n",
       "      <td>30.910000</td>\n",
       "      <td>175.000000</td>\n",
       "      <td>17.770000</td>\n",
       "      <td>20.000000</td>\n",
       "      <td>5.400000</td>\n",
       "    </tr>\n",
       "  </tbody>\n",
       "</table>\n",
       "</div>"
      ],
      "text/plain": [
       "       Account Length  VMail Message     Day Mins     Eve Mins   Night Mins  \\\n",
       "count     3333.000000    3333.000000  3333.000000  3333.000000  3333.000000   \n",
       "mean       101.064806       8.099010   179.775098   200.980348   200.872037   \n",
       "std         39.822106      13.688365    54.467389    50.713844    50.573847   \n",
       "min          1.000000       0.000000     0.000000     0.000000    23.200000   \n",
       "25%         74.000000       0.000000   143.700000   166.600000   167.000000   \n",
       "50%        101.000000       0.000000   179.400000   201.400000   201.200000   \n",
       "75%        127.000000      20.000000   216.400000   235.300000   235.300000   \n",
       "max        243.000000      51.000000   350.800000   363.700000   395.000000   \n",
       "\n",
       "         Intl Mins  CustServ Calls    Day Calls   Day Charge    Eve Calls  \\\n",
       "count  3333.000000     3333.000000  3333.000000  3333.000000  3333.000000   \n",
       "mean     10.237294        1.562856   100.435644    30.562307   100.114311   \n",
       "std       2.791840        1.315491    20.069084     9.259435    19.922625   \n",
       "min       0.000000        0.000000     0.000000     0.000000     0.000000   \n",
       "25%       8.500000        1.000000    87.000000    24.430000    87.000000   \n",
       "50%      10.300000        1.000000   101.000000    30.500000   100.000000   \n",
       "75%      12.100000        2.000000   114.000000    36.790000   114.000000   \n",
       "max      20.000000        9.000000   165.000000    59.640000   170.000000   \n",
       "\n",
       "        Eve Charge  Night Calls  Night Charge   Intl Calls  Intl Charge  \n",
       "count  3333.000000  3333.000000   3333.000000  3333.000000  3333.000000  \n",
       "mean     17.083540   100.107711      9.039325     4.479448     2.764581  \n",
       "std       4.310668    19.568609      2.275873     2.461214     0.753773  \n",
       "min       0.000000    33.000000      1.040000     0.000000     0.000000  \n",
       "25%      14.160000    87.000000      7.520000     3.000000     2.300000  \n",
       "50%      17.120000   100.000000      9.050000     4.000000     2.780000  \n",
       "75%      20.000000   113.000000     10.590000     6.000000     3.270000  \n",
       "max      30.910000   175.000000     17.770000    20.000000     5.400000  "
      ]
     },
     "execution_count": 40,
     "metadata": {},
     "output_type": "execute_result"
    }
   ],
   "source": [
    "df.describe()\n",
    "\n",
    "# Looking at yhe range, its not required to go for feature scaling#"
   ]
  },
  {
   "cell_type": "code",
   "execution_count": 41,
   "metadata": {
    "collapsed": false
   },
   "outputs": [
    {
     "data": {
      "text/plain": [
       "Index(['Account Length', 'VMail Message', 'Day Mins', 'Eve Mins', 'Night Mins',\n",
       "       'Intl Mins', 'CustServ Calls', 'Churn', 'Intl Plan', 'VMail Plan',\n",
       "       'Day Calls', 'Day Charge', 'Eve Calls', 'Eve Charge', 'Night Calls',\n",
       "       'Night Charge', 'Intl Calls', 'Intl Charge'],\n",
       "      dtype='object')"
      ]
     },
     "execution_count": 41,
     "metadata": {},
     "output_type": "execute_result"
    }
   ],
   "source": [
    "# other prepressing steps such as : dummy encoding, feature scaling, outliers, multi collinearity needs to be dome after Data Visualization #\n",
    "\n",
    "# 5) Data Visualization #\n",
    "\n",
    "df.columns\n",
    "#Target variable : Churn\n"
   ]
  },
  {
   "cell_type": "code",
   "execution_count": 11,
   "metadata": {
    "collapsed": false
   },
   "outputs": [
    {
     "data": {
      "image/png": "[encoded data removed]",
      "text/plain": [
       "<matplotlib.figure.Figure at 0x1f765d970b8>"
      ]
     },
     "metadata": {},
     "output_type": "display_data"
    }
   ],
   "source": [
    "sns.countplot(df['Churn'])\n",
    "plt.show()\n",
    "# there around 500 customers churned from a total of 3333 customers #"
   ]
  },
  {
   "cell_type": "code",
   "execution_count": 10,
   "metadata": {
    "collapsed": false
   },
   "outputs": [
    {
     "data": {
      "image/png": "[encoded data removed]",
      "text/plain": [
       "<matplotlib.figure.Figure at 0x2197e61dda0>"
      ]
     },
     "metadata": {},
     "output_type": "display_data"
    }
   ],
   "source": [
    "# lets understand categorical variables relationship with target variable # Intl plan and Vmail Plan \n",
    "\n",
    "# df.info - variables info , conversion \n",
    "\n",
    "# pre processing steps \n",
    "\n",
    "# drop missing values (all null values, impute null values in columns ), duplicates and handle synonyms & homonyms #\n",
    "\n",
    "# independent variables should not have multi collinearity (VIF)\n",
    "\n",
    "# needs to be relationship between independent & dependent variable  - visualization \n",
    "# 1. relationship between categorical & mumerical - box plot\n",
    "# 2. relationship between categprical & categoruical - bar chart (countplot)\n",
    "# 3. relationship between numerical & mumerical - scatter plot \n",
    "\n",
    "# Feature transformation - feature scaling, PCA and handling categorical variables\n",
    "\n",
    "# there shloud not be any outliers in the model, need tro impute thenm #\n",
    "\n",
    "import seaborn as sns\n",
    "plt.figure(figsize=(20,8))\n",
    "plt.subplot(1,2,1)\n",
    "plt.title('Churn Vs. Intl Plan')\n",
    "sns.countplot(x=df['Intl Plan'],hue=df['Churn'])\n",
    "\n",
    "plt.subplot(1,2,2)\n",
    "plt.title('Churn Vs. Vmail Plan')\n",
    "sns.countplot(x=df['VMail Plan'], hue=df['Churn'])\n",
    "plt.show()\n",
    "\n",
    "#There is no relationship between VMail Plan and churn\n",
    "# There is a relationship between Intl Plan and churn, the customers who are taking an Intl Plan are likely to churn more as compared to those whio are no taking#"
   ]
  },
  {
   "cell_type": "code",
   "execution_count": 12,
   "metadata": {
    "collapsed": false
   },
   "outputs": [
    {
     "data": {
      "image/png": "[encoded data removed]",
      "text/plain": [
       "<matplotlib.figure.Figure at 0x2197e632208>"
      ]
     },
     "metadata": {},
     "output_type": "display_data"
    }
   ],
   "source": [
    "# Account length #\n",
    "\n",
    "sns.boxplot(x=df['Churn'],y=df['Account Length'])\n",
    "plt.show()\n",
    "\n",
    "# Numerical variables: 'Account Length', 'VMail Message', 'CustServ Calls', 'Day Calls', 'Day Charge', 'Eve Calls',\n",
    "      # 'Eve Charge', 'Night Calls', 'Night Charge', 'Intl Calls', 'Day Mins', 'Might Mins', 'Eve Mins','Intl Mins'\n",
    "      # 'Intl Charge']\n",
    "# Categorical varoables : 'churn','IntlPlan', 'VMail Plan'\n",
    "\n",
    "# There is no significance of account length on churning rate #\n",
    "\n",
    "# Dropping insignificant variables : Account Length, V Mail Plan, night charge, VMail Message, Night Mins"
   ]
  },
  {
   "cell_type": "code",
   "execution_count": 10,
   "metadata": {
    "collapsed": true
   },
   "outputs": [],
   "source": [
    "# dropping the insignificant variables #\n",
    "\n",
    "df = df.drop(['Account Length','Night Charge','VMail Message','Night Mins'],axis=1)"
   ]
  },
  {
   "cell_type": "code",
   "execution_count": 8,
   "metadata": {
    "collapsed": false
   },
   "outputs": [
    {
     "data": {
      "text/html": [
       "<div>\n",
       "<table border=\"1\" class=\"dataframe\">\n",
       "  <thead>\n",
       "    <tr style=\"text-align: right;\">\n",
       "      <th></th>\n",
       "      <th>Day Mins</th>\n",
       "      <th>Eve Mins</th>\n",
       "      <th>Intl Mins</th>\n",
       "      <th>CustServ Calls</th>\n",
       "      <th>Churn</th>\n",
       "      <th>Intl Plan</th>\n",
       "      <th>VMail Plan</th>\n",
       "      <th>Day Calls</th>\n",
       "      <th>Day Charge</th>\n",
       "      <th>Eve Calls</th>\n",
       "      <th>Eve Charge</th>\n",
       "      <th>Night Calls</th>\n",
       "      <th>Intl Calls</th>\n",
       "      <th>Intl Charge</th>\n",
       "    </tr>\n",
       "  </thead>\n",
       "  <tbody>\n",
       "    <tr>\n",
       "      <th>1</th>\n",
       "      <td>265.1</td>\n",
       "      <td>197.4</td>\n",
       "      <td>10.0</td>\n",
       "      <td>1.0</td>\n",
       "      <td>0.0</td>\n",
       "      <td>0.0</td>\n",
       "      <td>1.0</td>\n",
       "      <td>110.0</td>\n",
       "      <td>45.07</td>\n",
       "      <td>99.0</td>\n",
       "      <td>16.78</td>\n",
       "      <td>91.0</td>\n",
       "      <td>3.0</td>\n",
       "      <td>2.70</td>\n",
       "    </tr>\n",
       "    <tr>\n",
       "      <th>3</th>\n",
       "      <td>161.6</td>\n",
       "      <td>195.5</td>\n",
       "      <td>13.7</td>\n",
       "      <td>1.0</td>\n",
       "      <td>0.0</td>\n",
       "      <td>0.0</td>\n",
       "      <td>1.0</td>\n",
       "      <td>123.0</td>\n",
       "      <td>27.47</td>\n",
       "      <td>103.0</td>\n",
       "      <td>16.62</td>\n",
       "      <td>103.0</td>\n",
       "      <td>3.0</td>\n",
       "      <td>3.70</td>\n",
       "    </tr>\n",
       "    <tr>\n",
       "      <th>5</th>\n",
       "      <td>243.4</td>\n",
       "      <td>121.2</td>\n",
       "      <td>12.2</td>\n",
       "      <td>0.0</td>\n",
       "      <td>0.0</td>\n",
       "      <td>0.0</td>\n",
       "      <td>0.0</td>\n",
       "      <td>114.0</td>\n",
       "      <td>41.38</td>\n",
       "      <td>110.0</td>\n",
       "      <td>10.30</td>\n",
       "      <td>104.0</td>\n",
       "      <td>5.0</td>\n",
       "      <td>3.29</td>\n",
       "    </tr>\n",
       "    <tr>\n",
       "      <th>7</th>\n",
       "      <td>299.4</td>\n",
       "      <td>61.9</td>\n",
       "      <td>6.6</td>\n",
       "      <td>2.0</td>\n",
       "      <td>0.0</td>\n",
       "      <td>1.0</td>\n",
       "      <td>0.0</td>\n",
       "      <td>71.0</td>\n",
       "      <td>50.90</td>\n",
       "      <td>88.0</td>\n",
       "      <td>5.26</td>\n",
       "      <td>89.0</td>\n",
       "      <td>7.0</td>\n",
       "      <td>1.78</td>\n",
       "    </tr>\n",
       "    <tr>\n",
       "      <th>9</th>\n",
       "      <td>166.7</td>\n",
       "      <td>148.3</td>\n",
       "      <td>10.1</td>\n",
       "      <td>3.0</td>\n",
       "      <td>0.0</td>\n",
       "      <td>1.0</td>\n",
       "      <td>0.0</td>\n",
       "      <td>113.0</td>\n",
       "      <td>28.34</td>\n",
       "      <td>122.0</td>\n",
       "      <td>12.61</td>\n",
       "      <td>121.0</td>\n",
       "      <td>3.0</td>\n",
       "      <td>2.73</td>\n",
       "    </tr>\n",
       "  </tbody>\n",
       "</table>\n",
       "</div>"
      ],
      "text/plain": [
       "   Day Mins  Eve Mins  Intl Mins  CustServ Calls Churn Intl Plan VMail Plan  \\\n",
       "1     265.1     197.4       10.0             1.0   0.0       0.0        1.0   \n",
       "3     161.6     195.5       13.7             1.0   0.0       0.0        1.0   \n",
       "5     243.4     121.2       12.2             0.0   0.0       0.0        0.0   \n",
       "7     299.4      61.9        6.6             2.0   0.0       1.0        0.0   \n",
       "9     166.7     148.3       10.1             3.0   0.0       1.0        0.0   \n",
       "\n",
       "   Day Calls  Day Charge  Eve Calls  Eve Charge  Night Calls  Intl Calls  \\\n",
       "1      110.0       45.07       99.0       16.78         91.0         3.0   \n",
       "3      123.0       27.47      103.0       16.62        103.0         3.0   \n",
       "5      114.0       41.38      110.0       10.30        104.0         5.0   \n",
       "7       71.0       50.90       88.0        5.26         89.0         7.0   \n",
       "9      113.0       28.34      122.0       12.61        121.0         3.0   \n",
       "\n",
       "   Intl Charge  \n",
       "1         2.70  \n",
       "3         3.70  \n",
       "5         3.29  \n",
       "7         1.78  \n",
       "9         2.73  "
      ]
     },
     "execution_count": 8,
     "metadata": {},
     "output_type": "execute_result"
    }
   ],
   "source": [
    "df.head()"
   ]
  },
  {
   "cell_type": "code",
   "execution_count": 13,
   "metadata": {
    "collapsed": false
   },
   "outputs": [
    {
     "data": {
      "image/png": "[encoded data removed]",
      "text/plain": [
       "<matplotlib.figure.Figure at 0x2197ed63e10>"
      ]
     },
     "metadata": {},
     "output_type": "display_data"
    }
   ],
   "source": [
    "import seaborn as sns\n",
    "plt.figure(figsize=(20,8))\n",
    "\n",
    "plt.subplot(1,4,1)\n",
    "plt.title('Churn Vs. Intl Mins')\n",
    "sns.boxplot(x=df['Churn'],y=df['Intl Mins'])\n",
    "\n",
    "plt.subplot(1,4,2)\n",
    "plt.title('Churn Vs. Day Mins')\n",
    "sns.boxplot(x=df['Churn'],y=df['Day Mins'])\n",
    "\n",
    "plt.subplot(1,4,3)\n",
    "plt.title('Churn Vs. Night Mins')\n",
    "sns.boxplot(x=df['Churn'],y=df['Night Mins'])\n",
    "\n",
    "plt.subplot(1,4,4)\n",
    "plt.title('Churn Vs. Eve Mins')\n",
    "sns.boxplot(x=df['Churn'],y=df['Eve Mins'])\n",
    "\n",
    "plt.show()\n",
    "\n",
    "\n",
    "# there is relationship between Intl Min, Day Mins , Eve Mins with churn vairbake \n",
    "\n",
    "# no relationshoo between chrurn and Night mins"
   ]
  },
  {
   "cell_type": "code",
   "execution_count": 31,
   "metadata": {
    "collapsed": false
   },
   "outputs": [
    {
     "data": {
      "image/png": "[encoded data removed]",
      "text/plain": [
       "<matplotlib.figure.Figure at 0x1f76627f080>"
      ]
     },
     "metadata": {},
     "output_type": "display_data"
    }
   ],
   "source": [
    "\n",
    "sns.boxplot(x=df['Churn'],y=df['VMail Message'])\n",
    "plt.show()"
   ]
  },
  {
   "cell_type": "code",
   "execution_count": 14,
   "metadata": {
    "collapsed": false
   },
   "outputs": [
    {
     "data": {
      "image/png": "[encoded data removed]",
      "text/plain": [
       "<matplotlib.figure.Figure at 0x2197ec3aac8>"
      ]
     },
     "metadata": {},
     "output_type": "display_data"
    }
   ],
   "source": [
    "# Day charge, eve charge, Intl charge and Night charge #\n",
    "\n",
    "# Relationship with target variable#\n",
    "\n",
    "import seaborn as sns\n",
    "plt.figure(figsize=(20,8))\n",
    "\n",
    "plt.subplot(1,4,1)\n",
    "plt.title('Churn Vs. Intl Charge')\n",
    "sns.boxplot(x=df['Churn'],y=df['Intl Charge'])\n",
    "\n",
    "plt.subplot(1,4,2)\n",
    "plt.title('Churn Vs. Day Charge')\n",
    "sns.boxplot(x=df['Churn'],y=df['Day Charge'])\n",
    "\n",
    "plt.subplot(1,4,3)\n",
    "plt.title('Churn Vs. Night Charge')\n",
    "sns.boxplot(x=df['Churn'],y=df['Night Charge'])\n",
    "\n",
    "plt.subplot(1,4,4)\n",
    "plt.title('Churn Vs. Eve Charge')\n",
    "sns.boxplot(x=df['Churn'],y=df['Eve Charge'])\n",
    "\n",
    "plt.show()\n",
    "\n",
    "# Fromt this plot, we can Churn depends on Intl charge, Eve Charge and Day Charge\n",
    "\n",
    "# Churn Vs. Intl Charge,churn Vs. Eve Charge, Churn Vs. Day Charge  : Customers paying high charges for Day,Eve and Intl are churning more as compared to otherd"
   ]
  },
  {
   "cell_type": "code",
   "execution_count": 16,
   "metadata": {
    "collapsed": false
   },
   "outputs": [
    {
     "data": {
      "image/png": "[encoded data removed]",
      "text/plain": [
       "<matplotlib.figure.Figure at 0x2197ec58ba8>"
      ]
     },
     "metadata": {},
     "output_type": "display_data"
    }
   ],
   "source": [
    "# Relationship between CustServ Calls vs Charge #\n",
    "\n",
    "plt.title('Churn Vs. CustServ Calls')\n",
    "sns.countplot(x=df['CustServ Calls'],hue=df['Churn'])\n",
    "plt.show()\n",
    "\n",
    "# Those customers who are doing more no. of CustServ Calls are likely to churn more as compared to others, hence churn depends on CustServ Calls"
   ]
  },
  {
   "cell_type": "code",
   "execution_count": 17,
   "metadata": {
    "collapsed": false
   },
   "outputs": [
    {
     "data": {
      "image/png": "[encoded data removed]",
      "text/plain": [
       "<matplotlib.figure.Figure at 0x2197ed57b38>"
      ]
     },
     "metadata": {},
     "output_type": "display_data"
    }
   ],
   "source": [
    "# eve calls, night calls, intl calls and night calls\n",
    "\n",
    "import seaborn as sns\n",
    "plt.figure(figsize=(20,8))\n",
    "\n",
    "plt.subplot(1,4,1)\n",
    "plt.title('Churn Vs. Intl Calls')\n",
    "sns.boxplot(x=df['Churn'],y=df['Intl Calls'])\n",
    "\n",
    "plt.subplot(1,4,2)\n",
    "plt.title('Churn Vs. Day Calls')\n",
    "sns.boxplot(x=df['Churn'],y=df['Day Calls'])\n",
    "\n",
    "plt.subplot(1,4,3)\n",
    "plt.title('Churn Vs. Night Calls')\n",
    "sns.boxplot(x=df['Churn'],y=df['Night Calls'])\n",
    "\n",
    "plt.subplot(1,4,4)\n",
    "plt.title('Churn Vs. Eve Calls')\n",
    "sns.boxplot(x=df['Churn'],y=df['Eve Calls'])\n",
    "\n",
    "plt.show()\n",
    "\n",
    "# there is relationship between eve., day , night and intl calls wiht churn"
   ]
  },
  {
   "cell_type": "code",
   "execution_count": 38,
   "metadata": {
    "collapsed": false
   },
   "outputs": [
    {
     "data": {
      "text/html": [
       "<div>\n",
       "<table border=\"1\" class=\"dataframe\">\n",
       "  <thead>\n",
       "    <tr style=\"text-align: right;\">\n",
       "      <th></th>\n",
       "      <th>Day Mins</th>\n",
       "      <th>Eve Mins</th>\n",
       "      <th>Intl Mins</th>\n",
       "      <th>CustServ Calls</th>\n",
       "      <th>Day Calls</th>\n",
       "      <th>Day Charge</th>\n",
       "      <th>Eve Calls</th>\n",
       "      <th>Eve Charge</th>\n",
       "      <th>Night Calls</th>\n",
       "      <th>Intl Calls</th>\n",
       "      <th>Intl Charge</th>\n",
       "    </tr>\n",
       "  </thead>\n",
       "  <tbody>\n",
       "    <tr>\n",
       "      <th>Day Mins</th>\n",
       "      <td>1.000000</td>\n",
       "      <td>0.007043</td>\n",
       "      <td>-0.010155</td>\n",
       "      <td>-0.013423</td>\n",
       "      <td>0.006750</td>\n",
       "      <td>1.000000</td>\n",
       "      <td>0.015769</td>\n",
       "      <td>0.007029</td>\n",
       "      <td>0.022972</td>\n",
       "      <td>0.008033</td>\n",
       "      <td>-0.010092</td>\n",
       "    </tr>\n",
       "    <tr>\n",
       "      <th>Eve Mins</th>\n",
       "      <td>0.007043</td>\n",
       "      <td>1.000000</td>\n",
       "      <td>-0.011035</td>\n",
       "      <td>-0.012985</td>\n",
       "      <td>-0.021451</td>\n",
       "      <td>0.007050</td>\n",
       "      <td>-0.011430</td>\n",
       "      <td>1.000000</td>\n",
       "      <td>0.007586</td>\n",
       "      <td>0.002541</td>\n",
       "      <td>-0.011067</td>\n",
       "    </tr>\n",
       "    <tr>\n",
       "      <th>Intl Mins</th>\n",
       "      <td>-0.010155</td>\n",
       "      <td>-0.011035</td>\n",
       "      <td>1.000000</td>\n",
       "      <td>-0.009640</td>\n",
       "      <td>0.021565</td>\n",
       "      <td>-0.010157</td>\n",
       "      <td>0.008703</td>\n",
       "      <td>-0.011043</td>\n",
       "      <td>-0.013605</td>\n",
       "      <td>0.032304</td>\n",
       "      <td>0.999993</td>\n",
       "    </tr>\n",
       "    <tr>\n",
       "      <th>CustServ Calls</th>\n",
       "      <td>-0.013423</td>\n",
       "      <td>-0.012985</td>\n",
       "      <td>-0.009640</td>\n",
       "      <td>1.000000</td>\n",
       "      <td>-0.018942</td>\n",
       "      <td>-0.013427</td>\n",
       "      <td>0.002423</td>\n",
       "      <td>-0.012987</td>\n",
       "      <td>-0.012802</td>\n",
       "      <td>-0.017561</td>\n",
       "      <td>-0.009675</td>\n",
       "    </tr>\n",
       "    <tr>\n",
       "      <th>Day Calls</th>\n",
       "      <td>0.006750</td>\n",
       "      <td>-0.021451</td>\n",
       "      <td>0.021565</td>\n",
       "      <td>-0.018942</td>\n",
       "      <td>1.000000</td>\n",
       "      <td>0.006753</td>\n",
       "      <td>0.006462</td>\n",
       "      <td>-0.021449</td>\n",
       "      <td>-0.019557</td>\n",
       "      <td>0.004574</td>\n",
       "      <td>0.021666</td>\n",
       "    </tr>\n",
       "    <tr>\n",
       "      <th>Day Charge</th>\n",
       "      <td>1.000000</td>\n",
       "      <td>0.007050</td>\n",
       "      <td>-0.010157</td>\n",
       "      <td>-0.013427</td>\n",
       "      <td>0.006753</td>\n",
       "      <td>1.000000</td>\n",
       "      <td>0.015769</td>\n",
       "      <td>0.007036</td>\n",
       "      <td>0.022972</td>\n",
       "      <td>0.008032</td>\n",
       "      <td>-0.010094</td>\n",
       "    </tr>\n",
       "    <tr>\n",
       "      <th>Eve Calls</th>\n",
       "      <td>0.015769</td>\n",
       "      <td>-0.011430</td>\n",
       "      <td>0.008703</td>\n",
       "      <td>0.002423</td>\n",
       "      <td>0.006462</td>\n",
       "      <td>0.015769</td>\n",
       "      <td>1.000000</td>\n",
       "      <td>-0.011423</td>\n",
       "      <td>0.007710</td>\n",
       "      <td>0.017434</td>\n",
       "      <td>0.008674</td>\n",
       "    </tr>\n",
       "    <tr>\n",
       "      <th>Eve Charge</th>\n",
       "      <td>0.007029</td>\n",
       "      <td>1.000000</td>\n",
       "      <td>-0.011043</td>\n",
       "      <td>-0.012987</td>\n",
       "      <td>-0.021449</td>\n",
       "      <td>0.007036</td>\n",
       "      <td>-0.011423</td>\n",
       "      <td>1.000000</td>\n",
       "      <td>0.007596</td>\n",
       "      <td>0.002541</td>\n",
       "      <td>-0.011074</td>\n",
       "    </tr>\n",
       "    <tr>\n",
       "      <th>Night Calls</th>\n",
       "      <td>0.022972</td>\n",
       "      <td>0.007586</td>\n",
       "      <td>-0.013605</td>\n",
       "      <td>-0.012802</td>\n",
       "      <td>-0.019557</td>\n",
       "      <td>0.022972</td>\n",
       "      <td>0.007710</td>\n",
       "      <td>0.007596</td>\n",
       "      <td>1.000000</td>\n",
       "      <td>0.000305</td>\n",
       "      <td>-0.013630</td>\n",
       "    </tr>\n",
       "    <tr>\n",
       "      <th>Intl Calls</th>\n",
       "      <td>0.008033</td>\n",
       "      <td>0.002541</td>\n",
       "      <td>0.032304</td>\n",
       "      <td>-0.017561</td>\n",
       "      <td>0.004574</td>\n",
       "      <td>0.008032</td>\n",
       "      <td>0.017434</td>\n",
       "      <td>0.002541</td>\n",
       "      <td>0.000305</td>\n",
       "      <td>1.000000</td>\n",
       "      <td>0.032372</td>\n",
       "    </tr>\n",
       "    <tr>\n",
       "      <th>Intl Charge</th>\n",
       "      <td>-0.010092</td>\n",
       "      <td>-0.011067</td>\n",
       "      <td>0.999993</td>\n",
       "      <td>-0.009675</td>\n",
       "      <td>0.021666</td>\n",
       "      <td>-0.010094</td>\n",
       "      <td>0.008674</td>\n",
       "      <td>-0.011074</td>\n",
       "      <td>-0.013630</td>\n",
       "      <td>0.032372</td>\n",
       "      <td>1.000000</td>\n",
       "    </tr>\n",
       "  </tbody>\n",
       "</table>\n",
       "</div>"
      ],
      "text/plain": [
       "                Day Mins  Eve Mins  Intl Mins  CustServ Calls  Day Calls  \\\n",
       "Day Mins        1.000000  0.007043  -0.010155       -0.013423   0.006750   \n",
       "Eve Mins        0.007043  1.000000  -0.011035       -0.012985  -0.021451   \n",
       "Intl Mins      -0.010155 -0.011035   1.000000       -0.009640   0.021565   \n",
       "CustServ Calls -0.013423 -0.012985  -0.009640        1.000000  -0.018942   \n",
       "Day Calls       0.006750 -0.021451   0.021565       -0.018942   1.000000   \n",
       "Day Charge      1.000000  0.007050  -0.010157       -0.013427   0.006753   \n",
       "Eve Calls       0.015769 -0.011430   0.008703        0.002423   0.006462   \n",
       "Eve Charge      0.007029  1.000000  -0.011043       -0.012987  -0.021449   \n",
       "Night Calls     0.022972  0.007586  -0.013605       -0.012802  -0.019557   \n",
       "Intl Calls      0.008033  0.002541   0.032304       -0.017561   0.004574   \n",
       "Intl Charge    -0.010092 -0.011067   0.999993       -0.009675   0.021666   \n",
       "\n",
       "                Day Charge  Eve Calls  Eve Charge  Night Calls  Intl Calls  \\\n",
       "Day Mins          1.000000   0.015769    0.007029     0.022972    0.008033   \n",
       "Eve Mins          0.007050  -0.011430    1.000000     0.007586    0.002541   \n",
       "Intl Mins        -0.010157   0.008703   -0.011043    -0.013605    0.032304   \n",
       "CustServ Calls   -0.013427   0.002423   -0.012987    -0.012802   -0.017561   \n",
       "Day Calls         0.006753   0.006462   -0.021449    -0.019557    0.004574   \n",
       "Day Charge        1.000000   0.015769    0.007036     0.022972    0.008032   \n",
       "Eve Calls         0.015769   1.000000   -0.011423     0.007710    0.017434   \n",
       "Eve Charge        0.007036  -0.011423    1.000000     0.007596    0.002541   \n",
       "Night Calls       0.022972   0.007710    0.007596     1.000000    0.000305   \n",
       "Intl Calls        0.008032   0.017434    0.002541     0.000305    1.000000   \n",
       "Intl Charge      -0.010094   0.008674   -0.011074    -0.013630    0.032372   \n",
       "\n",
       "                Intl Charge  \n",
       "Day Mins          -0.010092  \n",
       "Eve Mins          -0.011067  \n",
       "Intl Mins          0.999993  \n",
       "CustServ Calls    -0.009675  \n",
       "Day Calls          0.021666  \n",
       "Day Charge        -0.010094  \n",
       "Eve Calls          0.008674  \n",
       "Eve Charge        -0.011074  \n",
       "Night Calls       -0.013630  \n",
       "Intl Calls         0.032372  \n",
       "Intl Charge        1.000000  "
      ]
     },
     "execution_count": 38,
     "metadata": {},
     "output_type": "execute_result"
    }
   ],
   "source": [
    "# Correlatiin in the matrix, can remove the highly correlated variables # \n",
    "\n",
    "corr = df.corr()\n",
    "corr"
   ]
  },
  {
   "cell_type": "code",
   "execution_count": 10,
   "metadata": {
    "collapsed": false
   },
   "outputs": [
    {
     "data": {
      "text/html": [
       "<div>\n",
       "<table border=\"1\" class=\"dataframe\">\n",
       "  <thead>\n",
       "    <tr style=\"text-align: right;\">\n",
       "      <th></th>\n",
       "      <th>CustServ Calls</th>\n",
       "      <th>Churn</th>\n",
       "      <th>Intl Plan</th>\n",
       "      <th>Day Calls</th>\n",
       "      <th>Day Charge</th>\n",
       "      <th>Eve Calls</th>\n",
       "      <th>Eve Charge</th>\n",
       "      <th>Night Calls</th>\n",
       "      <th>Intl Calls</th>\n",
       "      <th>Intl Charge</th>\n",
       "    </tr>\n",
       "  </thead>\n",
       "  <tbody>\n",
       "    <tr>\n",
       "      <th>1</th>\n",
       "      <td>1.0</td>\n",
       "      <td>0.0</td>\n",
       "      <td>0.0</td>\n",
       "      <td>110.0</td>\n",
       "      <td>45.07</td>\n",
       "      <td>99.0</td>\n",
       "      <td>16.78</td>\n",
       "      <td>91.0</td>\n",
       "      <td>3.0</td>\n",
       "      <td>2.70</td>\n",
       "    </tr>\n",
       "    <tr>\n",
       "      <th>3</th>\n",
       "      <td>1.0</td>\n",
       "      <td>0.0</td>\n",
       "      <td>0.0</td>\n",
       "      <td>123.0</td>\n",
       "      <td>27.47</td>\n",
       "      <td>103.0</td>\n",
       "      <td>16.62</td>\n",
       "      <td>103.0</td>\n",
       "      <td>3.0</td>\n",
       "      <td>3.70</td>\n",
       "    </tr>\n",
       "    <tr>\n",
       "      <th>5</th>\n",
       "      <td>0.0</td>\n",
       "      <td>0.0</td>\n",
       "      <td>0.0</td>\n",
       "      <td>114.0</td>\n",
       "      <td>41.38</td>\n",
       "      <td>110.0</td>\n",
       "      <td>10.30</td>\n",
       "      <td>104.0</td>\n",
       "      <td>5.0</td>\n",
       "      <td>3.29</td>\n",
       "    </tr>\n",
       "    <tr>\n",
       "      <th>7</th>\n",
       "      <td>2.0</td>\n",
       "      <td>0.0</td>\n",
       "      <td>1.0</td>\n",
       "      <td>71.0</td>\n",
       "      <td>50.90</td>\n",
       "      <td>88.0</td>\n",
       "      <td>5.26</td>\n",
       "      <td>89.0</td>\n",
       "      <td>7.0</td>\n",
       "      <td>1.78</td>\n",
       "    </tr>\n",
       "    <tr>\n",
       "      <th>9</th>\n",
       "      <td>3.0</td>\n",
       "      <td>0.0</td>\n",
       "      <td>1.0</td>\n",
       "      <td>113.0</td>\n",
       "      <td>28.34</td>\n",
       "      <td>122.0</td>\n",
       "      <td>12.61</td>\n",
       "      <td>121.0</td>\n",
       "      <td>3.0</td>\n",
       "      <td>2.73</td>\n",
       "    </tr>\n",
       "  </tbody>\n",
       "</table>\n",
       "</div>"
      ],
      "text/plain": [
       "   CustServ Calls Churn Intl Plan  Day Calls  Day Charge  Eve Calls  \\\n",
       "1             1.0   0.0       0.0      110.0       45.07       99.0   \n",
       "3             1.0   0.0       0.0      123.0       27.47      103.0   \n",
       "5             0.0   0.0       0.0      114.0       41.38      110.0   \n",
       "7             2.0   0.0       1.0       71.0       50.90       88.0   \n",
       "9             3.0   0.0       1.0      113.0       28.34      122.0   \n",
       "\n",
       "   Eve Charge  Night Calls  Intl Calls  Intl Charge  \n",
       "1       16.78         91.0         3.0         2.70  \n",
       "3       16.62        103.0         3.0         3.70  \n",
       "5       10.30        104.0         5.0         3.29  \n",
       "7        5.26         89.0         7.0         1.78  \n",
       "9       12.61        121.0         3.0         2.73  "
      ]
     },
     "execution_count": 10,
     "metadata": {},
     "output_type": "execute_result"
    }
   ],
   "source": [
    "# using this steps for dropping highly correlated variables only for doing logistic regression #\n",
    "\n",
    "\n",
    "# from this corrmpkot, \n",
    "# daymins and day cjharge is corelated\n",
    "# even nmin and eve, charge is coorelated \n",
    "# Intl mins and Intl charge is corelated #\n",
    "# we will drop the eve mins, night mins and day mins #\n",
    "\n",
    "# If wee are dpoing PCA, then need not to drop this variables as PCA takes comtrol of multi collinearity #\n",
    "df = df.drop(['Day Mins','Intl Mins','Eve Mins'],axis=1)\n",
    "df.head()\n",
    "\n",
    "# not dropping any of this variables as the decsion and random forest takes care of multi collinearity and outliers #"
   ]
  },
  {
   "cell_type": "code",
   "execution_count": 18,
   "metadata": {
    "collapsed": false
   },
   "outputs": [
    {
     "data": {
      "text/plain": [
       "Eve Mins        Day Calls        -0.021451\n",
       "Eve Charge      Day Calls        -0.021449\n",
       "Day Calls       Night Calls      -0.019557\n",
       "CustServ Calls  Day Calls        -0.018942\n",
       "Intl Calls      CustServ Calls   -0.017561\n",
       "Intl Mins       Night Charge     -0.015214\n",
       "Night Mins      Intl Mins        -0.015207\n",
       "Intl Charge     Night Charge     -0.015186\n",
       "                Night Mins       -0.015180\n",
       "                Night Calls      -0.013630\n",
       "Intl Mins       Night Calls      -0.013605\n",
       "CustServ Calls  Day Charge       -0.013427\n",
       "Day Mins        CustServ Calls   -0.013423\n",
       "VMail Message   CustServ Calls   -0.013263\n",
       "Night Calls     Account Length   -0.013176\n",
       "Eve Charge      CustServ Calls   -0.012987\n",
       "Eve Mins        CustServ Calls   -0.012985\n",
       "CustServ Calls  Night Calls      -0.012802\n",
       "Eve Charge      Night Charge     -0.012601\n",
       "Eve Mins        Night Charge     -0.012593\n",
       "Eve Charge      Night Mins       -0.012592\n",
       "Night Mins      Eve Mins         -0.012584\n",
       "                Intl Calls       -0.012353\n",
       "Night Charge    Intl Calls       -0.012329\n",
       "Eve Calls       Eve Mins         -0.011430\n",
       "Eve Charge      Eve Calls        -0.011423\n",
       "Intl Charge     Eve Charge       -0.011074\n",
       "Eve Mins        Intl Charge      -0.011067\n",
       "Intl Mins       Eve Charge       -0.011043\n",
       "                Eve Mins         -0.011035\n",
       "                                    ...   \n",
       "Day Charge      Intl Calls        0.008032\n",
       "Intl Calls      Day Mins          0.008033\n",
       "Intl Charge     Eve Calls         0.008674\n",
       "Intl Mins       Eve Calls         0.008703\n",
       "                Account Length    0.009514\n",
       "Intl Charge     Account Length    0.009546\n",
       "Night Charge    Night Calls       0.011188\n",
       "Night Calls     Night Mins        0.011204\n",
       "VMail Message   Intl Calls        0.013957\n",
       "Eve Calls       Day Mins          0.015769\n",
       "                Day Charge        0.015769\n",
       "                Intl Calls        0.017434\n",
       "Eve Mins        VMail Message     0.017562\n",
       "Eve Charge      VMail Message     0.017578\n",
       "Account Length  Eve Calls         0.019260\n",
       "Intl Calls      Account Length    0.020661\n",
       "Day Calls       Intl Mins         0.021565\n",
       "                Intl Charge       0.021666\n",
       "                Night Charge      0.022927\n",
       "Night Mins      Day Calls         0.022938\n",
       "Day Charge      Night Calls       0.022972\n",
       "Day Mins        Night Calls       0.022972\n",
       "Intl Calls      Intl Mins         0.032304\n",
       "Intl Charge     Intl Calls        0.032372\n",
       "Day Calls       Account Length    0.038470\n",
       "Intl Charge     Intl Mins         0.999993\n",
       "Night Mins      Night Charge      0.999999\n",
       "Eve Charge      Eve Mins          1.000000\n",
       "Day Charge      Day Mins          1.000000\n",
       "Account Length  Account Length    1.000000\n",
       "dtype: float64"
      ]
     },
     "execution_count": 18,
     "metadata": {},
     "output_type": "execute_result"
    }
   ],
   "source": [
    "# Correlation matrix #\n",
    "\n",
    "corr.unstack().sort_values().drop_duplicates()"
   ]
  },
  {
   "cell_type": "code",
   "execution_count": 43,
   "metadata": {
    "collapsed": false
   },
   "outputs": [
    {
     "data": {
      "image/png": "[encoded data removed]",
      "text/plain": [
       "<matplotlib.figure.Figure at 0x1f766091be0>"
      ]
     },
     "metadata": {},
     "output_type": "display_data"
    },
    {
     "name": "stdout",
     "output_type": "stream",
     "text": [
      "0.01     54.0\n",
      "0.99    146.0\n",
      "Name: Day Calls, dtype: float64\n"
     ]
    }
   ],
   "source": [
    "sns.boxplot(df['Day Calls'])\n",
    "plt.show()\n",
    "\n",
    "print(df['Day Calls'].quantile((0.01,0.99)))\n",
    "\n",
    "df['Day Calls'] = df['Day Calls'].clip(upper=146,lower=50)\n"
   ]
  },
  {
   "cell_type": "code",
   "execution_count": 45,
   "metadata": {
    "collapsed": false
   },
   "outputs": [
    {
     "data": {
      "image/png": "[encoded data removed]",
      "text/plain": [
       "<matplotlib.figure.Figure at 0x1f76603a780>"
      ]
     },
     "metadata": {},
     "output_type": "display_data"
    },
    {
     "name": "stdout",
     "output_type": "stream",
     "text": [
      "0.01     53.0\n",
      "0.99    147.0\n",
      "Name: Eve Calls, dtype: float64\n"
     ]
    }
   ],
   "source": [
    "sns.boxplot(df['Eve Calls'])\n",
    "plt.show()\n",
    "\n",
    "print(df['Eve Calls'].quantile((0.01,0.99)))\n",
    "\n",
    "df['Eve Calls'] = df['Eve Calls'].clip(upper=150,lower=50)"
   ]
  },
  {
   "cell_type": "code",
   "execution_count": 79,
   "metadata": {
    "collapsed": false
   },
   "outputs": [
    {
     "data": {
      "image/png": "[encoded data removed]",
      "text/plain": [
       "<matplotlib.figure.Figure at 0x1e2a0c77240>"
      ]
     },
     "metadata": {},
     "output_type": "display_data"
    }
   ],
   "source": [
    "sns.boxplot(df['Day Calls'])\n",
    "plt.show()"
   ]
  },
  {
   "cell_type": "code",
   "execution_count": 47,
   "metadata": {
    "collapsed": false
   },
   "outputs": [
    {
     "data": {
      "image/png": "[encoded data removed]",
      "text/plain": [
       "<matplotlib.figure.Figure at 0x1f7663ed7b8>"
      ]
     },
     "metadata": {},
     "output_type": "display_data"
    },
    {
     "name": "stdout",
     "output_type": "stream",
     "text": [
      "0.01     8.9000\n",
      "0.99    51.8768\n",
      "Name: Day Charge, dtype: float64\n"
     ]
    }
   ],
   "source": [
    "sns.boxplot(df['Day Charge'])\n",
    "plt.show()\n",
    "\n",
    "print(df['Day Charge'].quantile((0.01,0.99)))\n",
    "\n",
    "df['Day Charge'] = df['Day Charge'].clip(upper=52,lower=8.9)"
   ]
  },
  {
   "cell_type": "code",
   "execution_count": 49,
   "metadata": {
    "collapsed": false
   },
   "outputs": [
    {
     "data": {
      "image/png": "[encoded data removed]",
      "text/plain": [
       "<matplotlib.figure.Figure at 0x1f765e6f7b8>"
      ]
     },
     "metadata": {},
     "output_type": "display_data"
    },
    {
     "name": "stdout",
     "output_type": "stream",
     "text": [
      "0.01     6.7592\n",
      "0.99    27.1136\n",
      "Name: Eve Charge, dtype: float64\n"
     ]
    }
   ],
   "source": [
    "sns.boxplot(df['Eve Charge'])\n",
    "plt.show()\n",
    "\n",
    "print(df['Eve Charge'].quantile((0.01,0.99)))\n",
    "\n",
    "df['Eve Charge'] = df['Eve Charge'].clip(upper=28,lower=6.0)\n"
   ]
  },
  {
   "cell_type": "code",
   "execution_count": 51,
   "metadata": {
    "collapsed": false
   },
   "outputs": [
    {
     "data": {
      "image/png": "[encoded data removed]",
      "text/plain": [
       "<matplotlib.figure.Figure at 0x1f76631db00>"
      ]
     },
     "metadata": {},
     "output_type": "display_data"
    },
    {
     "name": "stdout",
     "output_type": "stream",
     "text": [
      "0.01     57.00\n",
      "0.99    146.68\n",
      "Name: Night Calls, dtype: float64\n"
     ]
    }
   ],
   "source": [
    "sns.boxplot(df['Night Calls'])\n",
    "plt.show()\n",
    "\n",
    "print(df['Night Calls'].quantile((0.01,0.99)))\n",
    "\n",
    "df['Night Calls'] = df['Night Calls'].clip(upper=147,lower=48)\n"
   ]
  },
  {
   "cell_type": "code",
   "execution_count": 54,
   "metadata": {
    "collapsed": false
   },
   "outputs": [
    {
     "data": {
      "image/png": "[encoded data removed]",
      "text/plain": [
       "<matplotlib.figure.Figure at 0x1f7660494a8>"
      ]
     },
     "metadata": {},
     "output_type": "display_data"
    },
    {
     "name": "stdout",
     "output_type": "stream",
     "text": [
      "0.01    0.9064\n",
      "0.99    4.5004\n",
      "Name: Intl Charge, dtype: float64\n"
     ]
    }
   ],
   "source": [
    "sns.boxplot(df['Intl Charge'])\n",
    "plt.show()\n",
    "\n",
    "print(df['Intl Charge'].quantile((0.01,0.99)))\n",
    "df['Intl Charge'] = df['Intl Charge'].clip(upper=4.7,lower=0.9)"
   ]
  },
  {
   "cell_type": "code",
   "execution_count": 56,
   "metadata": {
    "collapsed": false
   },
   "outputs": [
    {
     "data": {
      "image/png": "[encoded data removed]",
      "text/plain": [
       "<matplotlib.figure.Figure at 0x1f766338eb8>"
      ]
     },
     "metadata": {},
     "output_type": "display_data"
    },
    {
     "name": "stdout",
     "output_type": "stream",
     "text": [
      "0.01    1.0\n",
      "0.99    9.0\n",
      "Name: Intl Calls, dtype: float64\n"
     ]
    }
   ],
   "source": [
    "sns.boxplot(df['Intl Calls'])\n",
    "plt.show()\n",
    "\n",
    "print(df['Intl Calls'].quantile((0.01,0.99)))\n",
    "df['Intl Calls'] = df['Intl Calls'].clip(upper=9,lower=0.2)"
   ]
  },
  {
   "cell_type": "code",
   "execution_count": 11,
   "metadata": {
    "collapsed": false
   },
   "outputs": [
    {
     "data": {
      "text/plain": [
       "1    0.0\n",
       "3    0.0\n",
       "5    0.0\n",
       "7    0.0\n",
       "9    0.0\n",
       "Name: Churn, dtype: object"
      ]
     },
     "execution_count": 11,
     "metadata": {},
     "output_type": "execute_result"
    }
   ],
   "source": [
    "y = df.Churn\n",
    "\n",
    "y = y.astype('str')\n",
    "\n",
    "y.head()"
   ]
  },
  {
   "cell_type": "code",
   "execution_count": 12,
   "metadata": {
    "collapsed": false
   },
   "outputs": [
    {
     "name": "stdout",
     "output_type": "stream",
     "text": [
      "   Day Mins  Eve Mins  Intl Mins  CustServ Calls Intl Plan VMail Plan  \\\n",
      "1     265.1     197.4       10.0             1.0       0.0        1.0   \n",
      "3     161.6     195.5       13.7             1.0       0.0        1.0   \n",
      "5     243.4     121.2       12.2             0.0       0.0        0.0   \n",
      "7     299.4      61.9        6.6             2.0       1.0        0.0   \n",
      "9     166.7     148.3       10.1             3.0       1.0        0.0   \n",
      "\n",
      "   Day Calls  Day Charge  Eve Calls  Eve Charge  Night Calls  Intl Calls  \\\n",
      "1      110.0       45.07       99.0       16.78         91.0         3.0   \n",
      "3      123.0       27.47      103.0       16.62        103.0         3.0   \n",
      "5      114.0       41.38      110.0       10.30        104.0         5.0   \n",
      "7       71.0       50.90       88.0        5.26         89.0         7.0   \n",
      "9      113.0       28.34      122.0       12.61        121.0         3.0   \n",
      "\n",
      "   Intl Charge  \n",
      "1         2.70  \n",
      "3         3.70  \n",
      "5         3.29  \n",
      "7         1.78  \n",
      "9         2.73  \n"
     ]
    }
   ],
   "source": [
    "\n",
    "# Logistic regression, the independent variables can be categorical or numerical in nature #\n",
    "\n",
    "# identifying the independent and dependent varianbles #\n",
    "\n",
    "\n",
    "X = df.drop(['Churn'],axis=1)\n",
    "print(X.head())"
   ]
  },
  {
   "cell_type": "code",
   "execution_count": 13,
   "metadata": {
    "collapsed": false
   },
   "outputs": [
    {
     "name": "stderr",
     "output_type": "stream",
     "text": [
      "C:\\Users\\PRAYAG\\Anaconda3\\lib\\site-packages\\sklearn\\utils\\fixes.py:313: FutureWarning: numpy not_equal will not check object identity in the future. The comparison did not return the same result as suggested by the identity (`is`)) and will change.\n",
      "  _nan_object_mask = _nan_object_array != _nan_object_array\n"
     ]
    }
   ],
   "source": [
    "X.describe()\n",
    "\n",
    "# Feature scaling : converting into standard scaler form #\n",
    "from sklearn.model_selection import train_test_split\n",
    "from sklearn.linear_model import LogisticRegression\n",
    "from sklearn.metrics import classification_report,confusion_matrix\n",
    "from sklearn.preprocessing import StandardScaler\n",
    "from sklearn.preprocessing import MinMaxScaler\n",
    "from sklearn.decomposition import PCA\n",
    "from sklearn.svm import SVC\n",
    "\n",
    "sc = SVC()\n",
    "sc = StandardScaler()\n",
    "\n",
    "\n",
    "# Creates an error as the we have two categorical variables in the data set, which cannot be processed for the standardized scalar operation\n",
    "\n",
    "# we need to create dummies for varoables : VMail Plan and Intl Plan\n"
   ]
  },
  {
   "cell_type": "code",
   "execution_count": 89,
   "metadata": {
    "collapsed": false
   },
   "outputs": [
    {
     "data": {
      "text/html": [
       "<div>\n",
       "<table border=\"1\" class=\"dataframe\">\n",
       "  <thead>\n",
       "    <tr style=\"text-align: right;\">\n",
       "      <th></th>\n",
       "      <th>Account Length</th>\n",
       "      <th>VMail Message</th>\n",
       "      <th>Day Mins</th>\n",
       "      <th>Eve Mins</th>\n",
       "      <th>Night Mins</th>\n",
       "      <th>Intl Mins</th>\n",
       "      <th>CustServ Calls</th>\n",
       "      <th>Intl Plan</th>\n",
       "      <th>VMail Plan</th>\n",
       "      <th>Day Calls</th>\n",
       "      <th>Day Charge</th>\n",
       "      <th>Eve Calls</th>\n",
       "      <th>Eve Charge</th>\n",
       "      <th>Night Calls</th>\n",
       "      <th>Night Charge</th>\n",
       "      <th>Intl Calls</th>\n",
       "      <th>Intl Charge</th>\n",
       "    </tr>\n",
       "  </thead>\n",
       "  <tbody>\n",
       "    <tr>\n",
       "      <th>1</th>\n",
       "      <td>128.0</td>\n",
       "      <td>25.0</td>\n",
       "      <td>265.1</td>\n",
       "      <td>197.4</td>\n",
       "      <td>244.7</td>\n",
       "      <td>10.0</td>\n",
       "      <td>1.0</td>\n",
       "      <td>0.0</td>\n",
       "      <td>1.0</td>\n",
       "      <td>110.0</td>\n",
       "      <td>45.07</td>\n",
       "      <td>99.0</td>\n",
       "      <td>16.78</td>\n",
       "      <td>91.0</td>\n",
       "      <td>11.01</td>\n",
       "      <td>3.0</td>\n",
       "      <td>2.70</td>\n",
       "    </tr>\n",
       "    <tr>\n",
       "      <th>3</th>\n",
       "      <td>107.0</td>\n",
       "      <td>26.0</td>\n",
       "      <td>161.6</td>\n",
       "      <td>195.5</td>\n",
       "      <td>254.4</td>\n",
       "      <td>13.7</td>\n",
       "      <td>1.0</td>\n",
       "      <td>0.0</td>\n",
       "      <td>1.0</td>\n",
       "      <td>123.0</td>\n",
       "      <td>27.47</td>\n",
       "      <td>103.0</td>\n",
       "      <td>16.62</td>\n",
       "      <td>103.0</td>\n",
       "      <td>11.45</td>\n",
       "      <td>3.0</td>\n",
       "      <td>3.70</td>\n",
       "    </tr>\n",
       "    <tr>\n",
       "      <th>5</th>\n",
       "      <td>137.0</td>\n",
       "      <td>0.0</td>\n",
       "      <td>243.4</td>\n",
       "      <td>121.2</td>\n",
       "      <td>162.6</td>\n",
       "      <td>12.2</td>\n",
       "      <td>0.0</td>\n",
       "      <td>0.0</td>\n",
       "      <td>0.0</td>\n",
       "      <td>114.0</td>\n",
       "      <td>41.38</td>\n",
       "      <td>110.0</td>\n",
       "      <td>10.30</td>\n",
       "      <td>104.0</td>\n",
       "      <td>7.32</td>\n",
       "      <td>5.0</td>\n",
       "      <td>3.29</td>\n",
       "    </tr>\n",
       "    <tr>\n",
       "      <th>7</th>\n",
       "      <td>84.0</td>\n",
       "      <td>0.0</td>\n",
       "      <td>299.4</td>\n",
       "      <td>61.9</td>\n",
       "      <td>196.9</td>\n",
       "      <td>6.6</td>\n",
       "      <td>2.0</td>\n",
       "      <td>1.0</td>\n",
       "      <td>0.0</td>\n",
       "      <td>71.0</td>\n",
       "      <td>50.90</td>\n",
       "      <td>88.0</td>\n",
       "      <td>5.26</td>\n",
       "      <td>89.0</td>\n",
       "      <td>8.86</td>\n",
       "      <td>7.0</td>\n",
       "      <td>1.78</td>\n",
       "    </tr>\n",
       "    <tr>\n",
       "      <th>9</th>\n",
       "      <td>75.0</td>\n",
       "      <td>0.0</td>\n",
       "      <td>166.7</td>\n",
       "      <td>148.3</td>\n",
       "      <td>186.9</td>\n",
       "      <td>10.1</td>\n",
       "      <td>3.0</td>\n",
       "      <td>1.0</td>\n",
       "      <td>0.0</td>\n",
       "      <td>113.0</td>\n",
       "      <td>28.34</td>\n",
       "      <td>122.0</td>\n",
       "      <td>12.61</td>\n",
       "      <td>121.0</td>\n",
       "      <td>8.41</td>\n",
       "      <td>3.0</td>\n",
       "      <td>2.73</td>\n",
       "    </tr>\n",
       "  </tbody>\n",
       "</table>\n",
       "</div>"
      ],
      "text/plain": [
       "   Account Length  VMail Message  Day Mins  Eve Mins  Night Mins  Intl Mins  \\\n",
       "1           128.0           25.0     265.1     197.4       244.7       10.0   \n",
       "3           107.0           26.0     161.6     195.5       254.4       13.7   \n",
       "5           137.0            0.0     243.4     121.2       162.6       12.2   \n",
       "7            84.0            0.0     299.4      61.9       196.9        6.6   \n",
       "9            75.0            0.0     166.7     148.3       186.9       10.1   \n",
       "\n",
       "   CustServ Calls Intl Plan VMail Plan  Day Calls  Day Charge  Eve Calls  \\\n",
       "1             1.0       0.0        1.0      110.0       45.07       99.0   \n",
       "3             1.0       0.0        1.0      123.0       27.47      103.0   \n",
       "5             0.0       0.0        0.0      114.0       41.38      110.0   \n",
       "7             2.0       1.0        0.0       71.0       50.90       88.0   \n",
       "9             3.0       1.0        0.0      113.0       28.34      122.0   \n",
       "\n",
       "   Eve Charge  Night Calls  Night Charge  Intl Calls  Intl Charge  \n",
       "1       16.78         91.0         11.01         3.0         2.70  \n",
       "3       16.62        103.0         11.45         3.0         3.70  \n",
       "5       10.30        104.0          7.32         5.0         3.29  \n",
       "7        5.26         89.0          8.86         7.0         1.78  \n",
       "9       12.61        121.0          8.41         3.0         2.73  "
      ]
     },
     "execution_count": 89,
     "metadata": {},
     "output_type": "execute_result"
    }
   ],
   "source": [
    "X.head()"
   ]
  },
  {
   "cell_type": "code",
   "execution_count": 14,
   "metadata": {
    "collapsed": false
   },
   "outputs": [
    {
     "data": {
      "text/html": [
       "<div>\n",
       "<table border=\"1\" class=\"dataframe\">\n",
       "  <thead>\n",
       "    <tr style=\"text-align: right;\">\n",
       "      <th></th>\n",
       "      <th>index</th>\n",
       "      <th>Day Mins</th>\n",
       "      <th>Eve Mins</th>\n",
       "      <th>Intl Mins</th>\n",
       "      <th>CustServ Calls</th>\n",
       "      <th>Intl Plan</th>\n",
       "      <th>VMail Plan</th>\n",
       "      <th>Day Calls</th>\n",
       "      <th>Day Charge</th>\n",
       "      <th>Eve Calls</th>\n",
       "      <th>Eve Charge</th>\n",
       "      <th>Night Calls</th>\n",
       "      <th>Intl Calls</th>\n",
       "      <th>Intl Charge</th>\n",
       "    </tr>\n",
       "  </thead>\n",
       "  <tbody>\n",
       "    <tr>\n",
       "      <th>0</th>\n",
       "      <td>1</td>\n",
       "      <td>265.1</td>\n",
       "      <td>197.4</td>\n",
       "      <td>10.0</td>\n",
       "      <td>1.0</td>\n",
       "      <td>0.0</td>\n",
       "      <td>1.0</td>\n",
       "      <td>110.0</td>\n",
       "      <td>45.07</td>\n",
       "      <td>99.0</td>\n",
       "      <td>16.78</td>\n",
       "      <td>91.0</td>\n",
       "      <td>3.0</td>\n",
       "      <td>2.70</td>\n",
       "    </tr>\n",
       "    <tr>\n",
       "      <th>1</th>\n",
       "      <td>3</td>\n",
       "      <td>161.6</td>\n",
       "      <td>195.5</td>\n",
       "      <td>13.7</td>\n",
       "      <td>1.0</td>\n",
       "      <td>0.0</td>\n",
       "      <td>1.0</td>\n",
       "      <td>123.0</td>\n",
       "      <td>27.47</td>\n",
       "      <td>103.0</td>\n",
       "      <td>16.62</td>\n",
       "      <td>103.0</td>\n",
       "      <td>3.0</td>\n",
       "      <td>3.70</td>\n",
       "    </tr>\n",
       "    <tr>\n",
       "      <th>2</th>\n",
       "      <td>5</td>\n",
       "      <td>243.4</td>\n",
       "      <td>121.2</td>\n",
       "      <td>12.2</td>\n",
       "      <td>0.0</td>\n",
       "      <td>0.0</td>\n",
       "      <td>0.0</td>\n",
       "      <td>114.0</td>\n",
       "      <td>41.38</td>\n",
       "      <td>110.0</td>\n",
       "      <td>10.30</td>\n",
       "      <td>104.0</td>\n",
       "      <td>5.0</td>\n",
       "      <td>3.29</td>\n",
       "    </tr>\n",
       "    <tr>\n",
       "      <th>3</th>\n",
       "      <td>7</td>\n",
       "      <td>299.4</td>\n",
       "      <td>61.9</td>\n",
       "      <td>6.6</td>\n",
       "      <td>2.0</td>\n",
       "      <td>1.0</td>\n",
       "      <td>0.0</td>\n",
       "      <td>71.0</td>\n",
       "      <td>50.90</td>\n",
       "      <td>88.0</td>\n",
       "      <td>5.26</td>\n",
       "      <td>89.0</td>\n",
       "      <td>7.0</td>\n",
       "      <td>1.78</td>\n",
       "    </tr>\n",
       "    <tr>\n",
       "      <th>4</th>\n",
       "      <td>9</td>\n",
       "      <td>166.7</td>\n",
       "      <td>148.3</td>\n",
       "      <td>10.1</td>\n",
       "      <td>3.0</td>\n",
       "      <td>1.0</td>\n",
       "      <td>0.0</td>\n",
       "      <td>113.0</td>\n",
       "      <td>28.34</td>\n",
       "      <td>122.0</td>\n",
       "      <td>12.61</td>\n",
       "      <td>121.0</td>\n",
       "      <td>3.0</td>\n",
       "      <td>2.73</td>\n",
       "    </tr>\n",
       "  </tbody>\n",
       "</table>\n",
       "</div>"
      ],
      "text/plain": [
       "   index  Day Mins  Eve Mins  Intl Mins  CustServ Calls Intl Plan VMail Plan  \\\n",
       "0      1     265.1     197.4       10.0             1.0       0.0        1.0   \n",
       "1      3     161.6     195.5       13.7             1.0       0.0        1.0   \n",
       "2      5     243.4     121.2       12.2             0.0       0.0        0.0   \n",
       "3      7     299.4      61.9        6.6             2.0       1.0        0.0   \n",
       "4      9     166.7     148.3       10.1             3.0       1.0        0.0   \n",
       "\n",
       "   Day Calls  Day Charge  Eve Calls  Eve Charge  Night Calls  Intl Calls  \\\n",
       "0      110.0       45.07       99.0       16.78         91.0         3.0   \n",
       "1      123.0       27.47      103.0       16.62        103.0         3.0   \n",
       "2      114.0       41.38      110.0       10.30        104.0         5.0   \n",
       "3       71.0       50.90       88.0        5.26         89.0         7.0   \n",
       "4      113.0       28.34      122.0       12.61        121.0         3.0   \n",
       "\n",
       "   Intl Charge  \n",
       "0         2.70  \n",
       "1         3.70  \n",
       "2         3.29  \n",
       "3         1.78  \n",
       "4         2.73  "
      ]
     },
     "execution_count": 14,
     "metadata": {},
     "output_type": "execute_result"
    }
   ],
   "source": [
    "X = X.reset_index()\n",
    "X.head()"
   ]
  },
  {
   "cell_type": "code",
   "execution_count": 15,
   "metadata": {
    "collapsed": false
   },
   "outputs": [
    {
     "data": {
      "text/html": [
       "<div>\n",
       "<table border=\"1\" class=\"dataframe\">\n",
       "  <thead>\n",
       "    <tr style=\"text-align: right;\">\n",
       "      <th></th>\n",
       "      <th>Day Mins</th>\n",
       "      <th>Eve Mins</th>\n",
       "      <th>Intl Mins</th>\n",
       "      <th>CustServ Calls</th>\n",
       "      <th>Intl Plan</th>\n",
       "      <th>VMail Plan</th>\n",
       "      <th>Day Calls</th>\n",
       "      <th>Day Charge</th>\n",
       "      <th>Eve Calls</th>\n",
       "      <th>Eve Charge</th>\n",
       "      <th>Night Calls</th>\n",
       "      <th>Intl Calls</th>\n",
       "      <th>Intl Charge</th>\n",
       "    </tr>\n",
       "  </thead>\n",
       "  <tbody>\n",
       "    <tr>\n",
       "      <th>0</th>\n",
       "      <td>265.1</td>\n",
       "      <td>197.4</td>\n",
       "      <td>10.0</td>\n",
       "      <td>1.0</td>\n",
       "      <td>0.0</td>\n",
       "      <td>1.0</td>\n",
       "      <td>110.0</td>\n",
       "      <td>45.07</td>\n",
       "      <td>99.0</td>\n",
       "      <td>16.78</td>\n",
       "      <td>91.0</td>\n",
       "      <td>3.0</td>\n",
       "      <td>2.70</td>\n",
       "    </tr>\n",
       "    <tr>\n",
       "      <th>1</th>\n",
       "      <td>161.6</td>\n",
       "      <td>195.5</td>\n",
       "      <td>13.7</td>\n",
       "      <td>1.0</td>\n",
       "      <td>0.0</td>\n",
       "      <td>1.0</td>\n",
       "      <td>123.0</td>\n",
       "      <td>27.47</td>\n",
       "      <td>103.0</td>\n",
       "      <td>16.62</td>\n",
       "      <td>103.0</td>\n",
       "      <td>3.0</td>\n",
       "      <td>3.70</td>\n",
       "    </tr>\n",
       "    <tr>\n",
       "      <th>2</th>\n",
       "      <td>243.4</td>\n",
       "      <td>121.2</td>\n",
       "      <td>12.2</td>\n",
       "      <td>0.0</td>\n",
       "      <td>0.0</td>\n",
       "      <td>0.0</td>\n",
       "      <td>114.0</td>\n",
       "      <td>41.38</td>\n",
       "      <td>110.0</td>\n",
       "      <td>10.30</td>\n",
       "      <td>104.0</td>\n",
       "      <td>5.0</td>\n",
       "      <td>3.29</td>\n",
       "    </tr>\n",
       "    <tr>\n",
       "      <th>3</th>\n",
       "      <td>299.4</td>\n",
       "      <td>61.9</td>\n",
       "      <td>6.6</td>\n",
       "      <td>2.0</td>\n",
       "      <td>1.0</td>\n",
       "      <td>0.0</td>\n",
       "      <td>71.0</td>\n",
       "      <td>50.90</td>\n",
       "      <td>88.0</td>\n",
       "      <td>5.26</td>\n",
       "      <td>89.0</td>\n",
       "      <td>7.0</td>\n",
       "      <td>1.78</td>\n",
       "    </tr>\n",
       "    <tr>\n",
       "      <th>4</th>\n",
       "      <td>166.7</td>\n",
       "      <td>148.3</td>\n",
       "      <td>10.1</td>\n",
       "      <td>3.0</td>\n",
       "      <td>1.0</td>\n",
       "      <td>0.0</td>\n",
       "      <td>113.0</td>\n",
       "      <td>28.34</td>\n",
       "      <td>122.0</td>\n",
       "      <td>12.61</td>\n",
       "      <td>121.0</td>\n",
       "      <td>3.0</td>\n",
       "      <td>2.73</td>\n",
       "    </tr>\n",
       "  </tbody>\n",
       "</table>\n",
       "</div>"
      ],
      "text/plain": [
       "   Day Mins  Eve Mins  Intl Mins  CustServ Calls Intl Plan VMail Plan  \\\n",
       "0     265.1     197.4       10.0             1.0       0.0        1.0   \n",
       "1     161.6     195.5       13.7             1.0       0.0        1.0   \n",
       "2     243.4     121.2       12.2             0.0       0.0        0.0   \n",
       "3     299.4      61.9        6.6             2.0       1.0        0.0   \n",
       "4     166.7     148.3       10.1             3.0       1.0        0.0   \n",
       "\n",
       "   Day Calls  Day Charge  Eve Calls  Eve Charge  Night Calls  Intl Calls  \\\n",
       "0      110.0       45.07       99.0       16.78         91.0         3.0   \n",
       "1      123.0       27.47      103.0       16.62        103.0         3.0   \n",
       "2      114.0       41.38      110.0       10.30        104.0         5.0   \n",
       "3       71.0       50.90       88.0        5.26         89.0         7.0   \n",
       "4      113.0       28.34      122.0       12.61        121.0         3.0   \n",
       "\n",
       "   Intl Charge  \n",
       "0         2.70  \n",
       "1         3.70  \n",
       "2         3.29  \n",
       "3         1.78  \n",
       "4         2.73  "
      ]
     },
     "execution_count": 15,
     "metadata": {},
     "output_type": "execute_result"
    }
   ],
   "source": [
    "X = X.drop(['index'],axis=1)\n",
    "X.head()"
   ]
  },
  {
   "cell_type": "code",
   "execution_count": 16,
   "metadata": {
    "collapsed": false
   },
   "outputs": [
    {
     "data": {
      "text/html": [
       "<div>\n",
       "<table border=\"1\" class=\"dataframe\">\n",
       "  <thead>\n",
       "    <tr style=\"text-align: right;\">\n",
       "      <th></th>\n",
       "      <th>Day Mins</th>\n",
       "      <th>Eve Mins</th>\n",
       "      <th>Intl Mins</th>\n",
       "      <th>CustServ Calls</th>\n",
       "      <th>Day Calls</th>\n",
       "      <th>Day Charge</th>\n",
       "      <th>Eve Calls</th>\n",
       "      <th>Eve Charge</th>\n",
       "      <th>Night Calls</th>\n",
       "      <th>Intl Calls</th>\n",
       "      <th>Intl Charge</th>\n",
       "    </tr>\n",
       "  </thead>\n",
       "  <tbody>\n",
       "    <tr>\n",
       "      <th>0</th>\n",
       "      <td>265.1</td>\n",
       "      <td>197.4</td>\n",
       "      <td>10.0</td>\n",
       "      <td>1.0</td>\n",
       "      <td>110.0</td>\n",
       "      <td>45.07</td>\n",
       "      <td>99.0</td>\n",
       "      <td>16.78</td>\n",
       "      <td>91.0</td>\n",
       "      <td>3.0</td>\n",
       "      <td>2.70</td>\n",
       "    </tr>\n",
       "    <tr>\n",
       "      <th>1</th>\n",
       "      <td>161.6</td>\n",
       "      <td>195.5</td>\n",
       "      <td>13.7</td>\n",
       "      <td>1.0</td>\n",
       "      <td>123.0</td>\n",
       "      <td>27.47</td>\n",
       "      <td>103.0</td>\n",
       "      <td>16.62</td>\n",
       "      <td>103.0</td>\n",
       "      <td>3.0</td>\n",
       "      <td>3.70</td>\n",
       "    </tr>\n",
       "    <tr>\n",
       "      <th>2</th>\n",
       "      <td>243.4</td>\n",
       "      <td>121.2</td>\n",
       "      <td>12.2</td>\n",
       "      <td>0.0</td>\n",
       "      <td>114.0</td>\n",
       "      <td>41.38</td>\n",
       "      <td>110.0</td>\n",
       "      <td>10.30</td>\n",
       "      <td>104.0</td>\n",
       "      <td>5.0</td>\n",
       "      <td>3.29</td>\n",
       "    </tr>\n",
       "    <tr>\n",
       "      <th>3</th>\n",
       "      <td>299.4</td>\n",
       "      <td>61.9</td>\n",
       "      <td>6.6</td>\n",
       "      <td>2.0</td>\n",
       "      <td>71.0</td>\n",
       "      <td>50.90</td>\n",
       "      <td>88.0</td>\n",
       "      <td>5.26</td>\n",
       "      <td>89.0</td>\n",
       "      <td>7.0</td>\n",
       "      <td>1.78</td>\n",
       "    </tr>\n",
       "    <tr>\n",
       "      <th>4</th>\n",
       "      <td>166.7</td>\n",
       "      <td>148.3</td>\n",
       "      <td>10.1</td>\n",
       "      <td>3.0</td>\n",
       "      <td>113.0</td>\n",
       "      <td>28.34</td>\n",
       "      <td>122.0</td>\n",
       "      <td>12.61</td>\n",
       "      <td>121.0</td>\n",
       "      <td>3.0</td>\n",
       "      <td>2.73</td>\n",
       "    </tr>\n",
       "  </tbody>\n",
       "</table>\n",
       "</div>"
      ],
      "text/plain": [
       "   Day Mins  Eve Mins  Intl Mins  CustServ Calls  Day Calls  Day Charge  \\\n",
       "0     265.1     197.4       10.0             1.0      110.0       45.07   \n",
       "1     161.6     195.5       13.7             1.0      123.0       27.47   \n",
       "2     243.4     121.2       12.2             0.0      114.0       41.38   \n",
       "3     299.4      61.9        6.6             2.0       71.0       50.90   \n",
       "4     166.7     148.3       10.1             3.0      113.0       28.34   \n",
       "\n",
       "   Eve Calls  Eve Charge  Night Calls  Intl Calls  Intl Charge  \n",
       "0       99.0       16.78         91.0         3.0         2.70  \n",
       "1      103.0       16.62        103.0         3.0         3.70  \n",
       "2      110.0       10.30        104.0         5.0         3.29  \n",
       "3       88.0        5.26         89.0         7.0         1.78  \n",
       "4      122.0       12.61        121.0         3.0         2.73  "
      ]
     },
     "execution_count": 16,
     "metadata": {},
     "output_type": "execute_result"
    }
   ],
   "source": [
    "# Drop the categorucal variable : Intl Plan # \n",
    "\n",
    "X_num = X.drop(['VMail Plan','Intl Plan'],axis=1)\n",
    "\n",
    "\n",
    "X_num.head()"
   ]
  },
  {
   "cell_type": "code",
   "execution_count": 17,
   "metadata": {
    "collapsed": false
   },
   "outputs": [
    {
     "data": {
      "text/html": [
       "<div>\n",
       "<table border=\"1\" class=\"dataframe\">\n",
       "  <thead>\n",
       "    <tr style=\"text-align: right;\">\n",
       "      <th></th>\n",
       "      <th>VIF Factor</th>\n",
       "      <th>features</th>\n",
       "    </tr>\n",
       "  </thead>\n",
       "  <tbody>\n",
       "    <tr>\n",
       "      <th>0</th>\n",
       "      <td>1.245146e+08</td>\n",
       "      <td>Day Mins</td>\n",
       "    </tr>\n",
       "    <tr>\n",
       "      <th>1</th>\n",
       "      <td>3.733824e+07</td>\n",
       "      <td>Eve Mins</td>\n",
       "    </tr>\n",
       "    <tr>\n",
       "      <th>2</th>\n",
       "      <td>9.968893e+05</td>\n",
       "      <td>Intl Mins</td>\n",
       "    </tr>\n",
       "    <tr>\n",
       "      <th>3</th>\n",
       "      <td>2.371017e+00</td>\n",
       "      <td>CustServ Calls</td>\n",
       "    </tr>\n",
       "    <tr>\n",
       "      <th>4</th>\n",
       "      <td>2.060084e+01</td>\n",
       "      <td>Day Calls</td>\n",
       "    </tr>\n",
       "    <tr>\n",
       "      <th>5</th>\n",
       "      <td>1.245189e+08</td>\n",
       "      <td>Day Charge</td>\n",
       "    </tr>\n",
       "    <tr>\n",
       "      <th>6</th>\n",
       "      <td>2.113599e+01</td>\n",
       "      <td>Eve Calls</td>\n",
       "    </tr>\n",
       "    <tr>\n",
       "      <th>7</th>\n",
       "      <td>3.733917e+07</td>\n",
       "      <td>Eve Charge</td>\n",
       "    </tr>\n",
       "    <tr>\n",
       "      <th>8</th>\n",
       "      <td>2.132156e+01</td>\n",
       "      <td>Night Calls</td>\n",
       "    </tr>\n",
       "    <tr>\n",
       "      <th>9</th>\n",
       "      <td>4.233727e+00</td>\n",
       "      <td>Intl Calls</td>\n",
       "    </tr>\n",
       "    <tr>\n",
       "      <th>10</th>\n",
       "      <td>9.972759e+05</td>\n",
       "      <td>Intl Charge</td>\n",
       "    </tr>\n",
       "  </tbody>\n",
       "</table>\n",
       "</div>"
      ],
      "text/plain": [
       "      VIF Factor        features\n",
       "0   1.245146e+08        Day Mins\n",
       "1   3.733824e+07        Eve Mins\n",
       "2   9.968893e+05       Intl Mins\n",
       "3   2.371017e+00  CustServ Calls\n",
       "4   2.060084e+01       Day Calls\n",
       "5   1.245189e+08      Day Charge\n",
       "6   2.113599e+01       Eve Calls\n",
       "7   3.733917e+07      Eve Charge\n",
       "8   2.132156e+01     Night Calls\n",
       "9   4.233727e+00      Intl Calls\n",
       "10  9.972759e+05     Intl Charge"
      ]
     },
     "execution_count": 17,
     "metadata": {},
     "output_type": "execute_result"
    }
   ],
   "source": [
    "# using this steps for dropping highly correlated variables only for doing logistic regression, as for decion trees and radnom forest, the model takes vare of pre processing steps  #\n",
    "\n",
    "\n",
    "# VIF Factor - checkoing for multi collinearity #\n",
    "\n",
    "# using this steps for dropping highly correlated variables for doing logistic regression #\n",
    "from statsmodels.stats.outliers_influence import variance_inflation_factor\n",
    "\n",
    "vif = pd.DataFrame()\n",
    "vif[\"VIF Factor\"] = [variance_inflation_factor(X_num.values, i) for i in range(X_num.shape[1])]\n",
    "vif[\"features\"] = X_num.columns\n",
    "vif"
   ]
  },
  {
   "cell_type": "code",
   "execution_count": 17,
   "metadata": {
    "collapsed": false
   },
   "outputs": [
    {
     "data": {
      "text/html": [
       "<div>\n",
       "<table border=\"1\" class=\"dataframe\">\n",
       "  <thead>\n",
       "    <tr style=\"text-align: right;\">\n",
       "      <th></th>\n",
       "      <th>CustServ Calls</th>\n",
       "      <th>Day Calls</th>\n",
       "      <th>Day Charge</th>\n",
       "      <th>Eve Calls</th>\n",
       "      <th>Eve Charge</th>\n",
       "      <th>Intl Calls</th>\n",
       "      <th>Intl Charge</th>\n",
       "    </tr>\n",
       "  </thead>\n",
       "  <tbody>\n",
       "    <tr>\n",
       "      <th>0</th>\n",
       "      <td>1.0</td>\n",
       "      <td>110.0</td>\n",
       "      <td>45.07</td>\n",
       "      <td>99.0</td>\n",
       "      <td>16.78</td>\n",
       "      <td>3.0</td>\n",
       "      <td>2.70</td>\n",
       "    </tr>\n",
       "    <tr>\n",
       "      <th>1</th>\n",
       "      <td>1.0</td>\n",
       "      <td>123.0</td>\n",
       "      <td>27.47</td>\n",
       "      <td>103.0</td>\n",
       "      <td>16.62</td>\n",
       "      <td>3.0</td>\n",
       "      <td>3.70</td>\n",
       "    </tr>\n",
       "    <tr>\n",
       "      <th>2</th>\n",
       "      <td>0.0</td>\n",
       "      <td>114.0</td>\n",
       "      <td>41.38</td>\n",
       "      <td>110.0</td>\n",
       "      <td>10.30</td>\n",
       "      <td>5.0</td>\n",
       "      <td>3.29</td>\n",
       "    </tr>\n",
       "    <tr>\n",
       "      <th>3</th>\n",
       "      <td>2.0</td>\n",
       "      <td>71.0</td>\n",
       "      <td>50.90</td>\n",
       "      <td>88.0</td>\n",
       "      <td>5.26</td>\n",
       "      <td>7.0</td>\n",
       "      <td>1.78</td>\n",
       "    </tr>\n",
       "    <tr>\n",
       "      <th>4</th>\n",
       "      <td>3.0</td>\n",
       "      <td>113.0</td>\n",
       "      <td>28.34</td>\n",
       "      <td>122.0</td>\n",
       "      <td>12.61</td>\n",
       "      <td>3.0</td>\n",
       "      <td>2.73</td>\n",
       "    </tr>\n",
       "  </tbody>\n",
       "</table>\n",
       "</div>"
      ],
      "text/plain": [
       "   CustServ Calls  Day Calls  Day Charge  Eve Calls  Eve Charge  Intl Calls  \\\n",
       "0             1.0      110.0       45.07       99.0       16.78         3.0   \n",
       "1             1.0      123.0       27.47      103.0       16.62         3.0   \n",
       "2             0.0      114.0       41.38      110.0       10.30         5.0   \n",
       "3             2.0       71.0       50.90       88.0        5.26         7.0   \n",
       "4             3.0      113.0       28.34      122.0       12.61         3.0   \n",
       "\n",
       "   Intl Charge  \n",
       "0         2.70  \n",
       "1         3.70  \n",
       "2         3.29  \n",
       "3         1.78  \n",
       "4         2.73  "
      ]
     },
     "execution_count": 17,
     "metadata": {},
     "output_type": "execute_result"
    }
   ],
   "source": [
    "# dropping the variables : Night Calls as it has high multo coolinearity #\n",
    "\n",
    "# using this steps for dropping highly correlated variables only for doing logistic regression, as for decion trees and radnom forest, the model takes vare of pre processing steps  #\n",
    "\n",
    "\n",
    "X_num1 = X_num.drop(['Night Calls'],axis=1)\n",
    "\n",
    "X_num1.head()"
   ]
  },
  {
   "cell_type": "code",
   "execution_count": 18,
   "metadata": {
    "collapsed": false
   },
   "outputs": [
    {
     "data": {
      "text/html": [
       "<div>\n",
       "<table border=\"1\" class=\"dataframe\">\n",
       "  <thead>\n",
       "    <tr style=\"text-align: right;\">\n",
       "      <th></th>\n",
       "      <th>CustServ Calls</th>\n",
       "      <th>Day Calls</th>\n",
       "      <th>Day Charge</th>\n",
       "      <th>Eve Charge</th>\n",
       "      <th>Intl Calls</th>\n",
       "      <th>Intl Charge</th>\n",
       "    </tr>\n",
       "  </thead>\n",
       "  <tbody>\n",
       "    <tr>\n",
       "      <th>0</th>\n",
       "      <td>1.0</td>\n",
       "      <td>110.0</td>\n",
       "      <td>45.07</td>\n",
       "      <td>16.78</td>\n",
       "      <td>3.0</td>\n",
       "      <td>2.70</td>\n",
       "    </tr>\n",
       "    <tr>\n",
       "      <th>1</th>\n",
       "      <td>1.0</td>\n",
       "      <td>123.0</td>\n",
       "      <td>27.47</td>\n",
       "      <td>16.62</td>\n",
       "      <td>3.0</td>\n",
       "      <td>3.70</td>\n",
       "    </tr>\n",
       "    <tr>\n",
       "      <th>2</th>\n",
       "      <td>0.0</td>\n",
       "      <td>114.0</td>\n",
       "      <td>41.38</td>\n",
       "      <td>10.30</td>\n",
       "      <td>5.0</td>\n",
       "      <td>3.29</td>\n",
       "    </tr>\n",
       "    <tr>\n",
       "      <th>3</th>\n",
       "      <td>2.0</td>\n",
       "      <td>71.0</td>\n",
       "      <td>50.90</td>\n",
       "      <td>5.26</td>\n",
       "      <td>7.0</td>\n",
       "      <td>1.78</td>\n",
       "    </tr>\n",
       "    <tr>\n",
       "      <th>4</th>\n",
       "      <td>3.0</td>\n",
       "      <td>113.0</td>\n",
       "      <td>28.34</td>\n",
       "      <td>12.61</td>\n",
       "      <td>3.0</td>\n",
       "      <td>2.73</td>\n",
       "    </tr>\n",
       "  </tbody>\n",
       "</table>\n",
       "</div>"
      ],
      "text/plain": [
       "   CustServ Calls  Day Calls  Day Charge  Eve Charge  Intl Calls  Intl Charge\n",
       "0             1.0      110.0       45.07       16.78         3.0         2.70\n",
       "1             1.0      123.0       27.47       16.62         3.0         3.70\n",
       "2             0.0      114.0       41.38       10.30         5.0         3.29\n",
       "3             2.0       71.0       50.90        5.26         7.0         1.78\n",
       "4             3.0      113.0       28.34       12.61         3.0         2.73"
      ]
     },
     "execution_count": 18,
     "metadata": {},
     "output_type": "execute_result"
    }
   ],
   "source": [
    "# # using this steps for dropping highly correlated variables only for doing logistic regression, as for decion trees and radnom forest, the model takes vare of pre processing steps  #\n",
    "\n",
    "\n",
    "vif = pd.DataFrame()\n",
    "vif[\"VIF Factor\"] = [variance_inflation_factor(X_num1.values, i) for i in range(X_num1.shape[1])]\n",
    "vif[\"features\"] = X_num1.columns\n",
    "vif\n",
    "\n",
    "# dropping eve calls #\n",
    "\n",
    "X_num2 = X_num1.drop(['Eve Calls'],axis=1)\n",
    "X_num2.head()"
   ]
  },
  {
   "cell_type": "code",
   "execution_count": 19,
   "metadata": {
    "collapsed": false
   },
   "outputs": [
    {
     "data": {
      "text/html": [
       "<div>\n",
       "<table border=\"1\" class=\"dataframe\">\n",
       "  <thead>\n",
       "    <tr style=\"text-align: right;\">\n",
       "      <th></th>\n",
       "      <th>VIF Factor</th>\n",
       "      <th>features</th>\n",
       "    </tr>\n",
       "  </thead>\n",
       "  <tbody>\n",
       "    <tr>\n",
       "      <th>0</th>\n",
       "      <td>2.343746</td>\n",
       "      <td>CustServ Calls</td>\n",
       "    </tr>\n",
       "    <tr>\n",
       "      <th>1</th>\n",
       "      <td>16.884412</td>\n",
       "      <td>Day Calls</td>\n",
       "    </tr>\n",
       "    <tr>\n",
       "      <th>2</th>\n",
       "      <td>10.102742</td>\n",
       "      <td>Day Charge</td>\n",
       "    </tr>\n",
       "    <tr>\n",
       "      <th>3</th>\n",
       "      <td>12.770613</td>\n",
       "      <td>Eve Charge</td>\n",
       "    </tr>\n",
       "    <tr>\n",
       "      <th>4</th>\n",
       "      <td>4.150628</td>\n",
       "      <td>Intl Calls</td>\n",
       "    </tr>\n",
       "    <tr>\n",
       "      <th>5</th>\n",
       "      <td>11.851202</td>\n",
       "      <td>Intl Charge</td>\n",
       "    </tr>\n",
       "  </tbody>\n",
       "</table>\n",
       "</div>"
      ],
      "text/plain": [
       "   VIF Factor        features\n",
       "0    2.343746  CustServ Calls\n",
       "1   16.884412       Day Calls\n",
       "2   10.102742      Day Charge\n",
       "3   12.770613      Eve Charge\n",
       "4    4.150628      Intl Calls\n",
       "5   11.851202     Intl Charge"
      ]
     },
     "execution_count": 19,
     "metadata": {},
     "output_type": "execute_result"
    }
   ],
   "source": [
    "\n",
    "vif = pd.DataFrame()\n",
    "vif[\"VIF Factor\"] = [variance_inflation_factor(X_num2.values, i) for i in range(X_num2.shape[1])]\n",
    "vif[\"features\"] = X_num2.columns\n",
    "vif"
   ]
  },
  {
   "cell_type": "code",
   "execution_count": 20,
   "metadata": {
    "collapsed": false
   },
   "outputs": [
    {
     "data": {
      "text/html": [
       "<div>\n",
       "<table border=\"1\" class=\"dataframe\">\n",
       "  <thead>\n",
       "    <tr style=\"text-align: right;\">\n",
       "      <th></th>\n",
       "      <th>CustServ Calls</th>\n",
       "      <th>Day Charge</th>\n",
       "      <th>Eve Charge</th>\n",
       "      <th>Intl Calls</th>\n",
       "      <th>Intl Charge</th>\n",
       "    </tr>\n",
       "  </thead>\n",
       "  <tbody>\n",
       "    <tr>\n",
       "      <th>0</th>\n",
       "      <td>1.0</td>\n",
       "      <td>45.07</td>\n",
       "      <td>16.78</td>\n",
       "      <td>3.0</td>\n",
       "      <td>2.70</td>\n",
       "    </tr>\n",
       "    <tr>\n",
       "      <th>1</th>\n",
       "      <td>1.0</td>\n",
       "      <td>27.47</td>\n",
       "      <td>16.62</td>\n",
       "      <td>3.0</td>\n",
       "      <td>3.70</td>\n",
       "    </tr>\n",
       "    <tr>\n",
       "      <th>2</th>\n",
       "      <td>0.0</td>\n",
       "      <td>41.38</td>\n",
       "      <td>10.30</td>\n",
       "      <td>5.0</td>\n",
       "      <td>3.29</td>\n",
       "    </tr>\n",
       "    <tr>\n",
       "      <th>3</th>\n",
       "      <td>2.0</td>\n",
       "      <td>50.90</td>\n",
       "      <td>5.26</td>\n",
       "      <td>7.0</td>\n",
       "      <td>1.78</td>\n",
       "    </tr>\n",
       "    <tr>\n",
       "      <th>4</th>\n",
       "      <td>3.0</td>\n",
       "      <td>28.34</td>\n",
       "      <td>12.61</td>\n",
       "      <td>3.0</td>\n",
       "      <td>2.73</td>\n",
       "    </tr>\n",
       "  </tbody>\n",
       "</table>\n",
       "</div>"
      ],
      "text/plain": [
       "   CustServ Calls  Day Charge  Eve Charge  Intl Calls  Intl Charge\n",
       "0             1.0       45.07       16.78         3.0         2.70\n",
       "1             1.0       27.47       16.62         3.0         3.70\n",
       "2             0.0       41.38       10.30         5.0         3.29\n",
       "3             2.0       50.90        5.26         7.0         1.78\n",
       "4             3.0       28.34       12.61         3.0         2.73"
      ]
     },
     "execution_count": 20,
     "metadata": {},
     "output_type": "execute_result"
    }
   ],
   "source": [
    "# using this steps for dropping highly correlated variables only for doing logistic regression, as for decion trees and radnom forest, the model takes vare of pre processing steps  #\n",
    "\n",
    "\n",
    "# Dropping day calls #\n",
    "\n",
    "X_num3 = X_num2.drop(['Day Calls'],axis=1)\n",
    "X_num3.head()"
   ]
  },
  {
   "cell_type": "code",
   "execution_count": 21,
   "metadata": {
    "collapsed": false
   },
   "outputs": [
    {
     "data": {
      "text/html": [
       "<div>\n",
       "<table border=\"1\" class=\"dataframe\">\n",
       "  <thead>\n",
       "    <tr style=\"text-align: right;\">\n",
       "      <th></th>\n",
       "      <th>VIF Factor</th>\n",
       "      <th>features</th>\n",
       "    </tr>\n",
       "  </thead>\n",
       "  <tbody>\n",
       "    <tr>\n",
       "      <th>0</th>\n",
       "      <td>2.318162</td>\n",
       "      <td>CustServ Calls</td>\n",
       "    </tr>\n",
       "    <tr>\n",
       "      <th>1</th>\n",
       "      <td>9.062552</td>\n",
       "      <td>Day Charge</td>\n",
       "    </tr>\n",
       "    <tr>\n",
       "      <th>2</th>\n",
       "      <td>10.924853</td>\n",
       "      <td>Eve Charge</td>\n",
       "    </tr>\n",
       "    <tr>\n",
       "      <th>3</th>\n",
       "      <td>4.052849</td>\n",
       "      <td>Intl Calls</td>\n",
       "    </tr>\n",
       "    <tr>\n",
       "      <th>4</th>\n",
       "      <td>10.167071</td>\n",
       "      <td>Intl Charge</td>\n",
       "    </tr>\n",
       "  </tbody>\n",
       "</table>\n",
       "</div>"
      ],
      "text/plain": [
       "   VIF Factor        features\n",
       "0    2.318162  CustServ Calls\n",
       "1    9.062552      Day Charge\n",
       "2   10.924853      Eve Charge\n",
       "3    4.052849      Intl Calls\n",
       "4   10.167071     Intl Charge"
      ]
     },
     "execution_count": 21,
     "metadata": {},
     "output_type": "execute_result"
    }
   ],
   "source": [
    "# # using this steps for dropping highly correlated variables only for doing logistic regression, as for decion trees and radnom forest, the model takes vare of pre processing steps  #\n",
    "\n",
    "\n",
    "vif = pd.DataFrame()\n",
    "vif[\"VIF Factor\"] = [variance_inflation_factor(X_num3.values, i) for i in range(X_num3.shape[1])]\n",
    "vif[\"features\"] = X_num3.columns\n",
    "vif"
   ]
  },
  {
   "cell_type": "code",
   "execution_count": 25,
   "metadata": {
    "collapsed": false
   },
   "outputs": [
    {
     "data": {
      "text/html": [
       "<div>\n",
       "<table border=\"1\" class=\"dataframe\">\n",
       "  <thead>\n",
       "    <tr style=\"text-align: right;\">\n",
       "      <th></th>\n",
       "      <th>Day Mins</th>\n",
       "      <th>Eve Mins</th>\n",
       "      <th>Intl Mins</th>\n",
       "      <th>CustServ Calls</th>\n",
       "      <th>Day Calls</th>\n",
       "      <th>Day Charge</th>\n",
       "      <th>Eve Calls</th>\n",
       "      <th>Eve Charge</th>\n",
       "      <th>Night Calls</th>\n",
       "      <th>Intl Calls</th>\n",
       "      <th>Intl Charge</th>\n",
       "    </tr>\n",
       "  </thead>\n",
       "  <tbody>\n",
       "    <tr>\n",
       "      <th>0</th>\n",
       "      <td>265.1</td>\n",
       "      <td>197.4</td>\n",
       "      <td>10.0</td>\n",
       "      <td>1.0</td>\n",
       "      <td>110.0</td>\n",
       "      <td>45.07</td>\n",
       "      <td>99.0</td>\n",
       "      <td>16.78</td>\n",
       "      <td>91.0</td>\n",
       "      <td>3.0</td>\n",
       "      <td>2.70</td>\n",
       "    </tr>\n",
       "    <tr>\n",
       "      <th>1</th>\n",
       "      <td>161.6</td>\n",
       "      <td>195.5</td>\n",
       "      <td>13.7</td>\n",
       "      <td>1.0</td>\n",
       "      <td>123.0</td>\n",
       "      <td>27.47</td>\n",
       "      <td>103.0</td>\n",
       "      <td>16.62</td>\n",
       "      <td>103.0</td>\n",
       "      <td>3.0</td>\n",
       "      <td>3.70</td>\n",
       "    </tr>\n",
       "    <tr>\n",
       "      <th>2</th>\n",
       "      <td>243.4</td>\n",
       "      <td>121.2</td>\n",
       "      <td>12.2</td>\n",
       "      <td>0.0</td>\n",
       "      <td>114.0</td>\n",
       "      <td>41.38</td>\n",
       "      <td>110.0</td>\n",
       "      <td>10.30</td>\n",
       "      <td>104.0</td>\n",
       "      <td>5.0</td>\n",
       "      <td>3.29</td>\n",
       "    </tr>\n",
       "    <tr>\n",
       "      <th>3</th>\n",
       "      <td>299.4</td>\n",
       "      <td>61.9</td>\n",
       "      <td>6.6</td>\n",
       "      <td>2.0</td>\n",
       "      <td>71.0</td>\n",
       "      <td>50.90</td>\n",
       "      <td>88.0</td>\n",
       "      <td>5.26</td>\n",
       "      <td>89.0</td>\n",
       "      <td>7.0</td>\n",
       "      <td>1.78</td>\n",
       "    </tr>\n",
       "    <tr>\n",
       "      <th>4</th>\n",
       "      <td>166.7</td>\n",
       "      <td>148.3</td>\n",
       "      <td>10.1</td>\n",
       "      <td>3.0</td>\n",
       "      <td>113.0</td>\n",
       "      <td>28.34</td>\n",
       "      <td>122.0</td>\n",
       "      <td>12.61</td>\n",
       "      <td>121.0</td>\n",
       "      <td>3.0</td>\n",
       "      <td>2.73</td>\n",
       "    </tr>\n",
       "  </tbody>\n",
       "</table>\n",
       "</div>"
      ],
      "text/plain": [
       "   Day Mins  Eve Mins  Intl Mins  CustServ Calls  Day Calls  Day Charge  \\\n",
       "0     265.1     197.4       10.0             1.0      110.0       45.07   \n",
       "1     161.6     195.5       13.7             1.0      123.0       27.47   \n",
       "2     243.4     121.2       12.2             0.0      114.0       41.38   \n",
       "3     299.4      61.9        6.6             2.0       71.0       50.90   \n",
       "4     166.7     148.3       10.1             3.0      113.0       28.34   \n",
       "\n",
       "   Eve Calls  Eve Charge  Night Calls  Intl Calls  Intl Charge  \n",
       "0       99.0       16.78         91.0         3.0         2.70  \n",
       "1      103.0       16.62        103.0         3.0         3.70  \n",
       "2      110.0       10.30        104.0         5.0         3.29  \n",
       "3       88.0        5.26         89.0         7.0         1.78  \n",
       "4      122.0       12.61        121.0         3.0         2.73  "
      ]
     },
     "execution_count": 25,
     "metadata": {},
     "output_type": "execute_result"
    }
   ],
   "source": [
    "X_num.head()"
   ]
  },
  {
   "cell_type": "code",
   "execution_count": 18,
   "metadata": {
    "collapsed": false
   },
   "outputs": [
    {
     "data": {
      "text/html": [
       "<div>\n",
       "<table border=\"1\" class=\"dataframe\">\n",
       "  <thead>\n",
       "    <tr style=\"text-align: right;\">\n",
       "      <th></th>\n",
       "      <th>Day Mins</th>\n",
       "      <th>Eve Mins</th>\n",
       "      <th>Intl Mins</th>\n",
       "      <th>CustServ Calls</th>\n",
       "      <th>Day Calls</th>\n",
       "      <th>Day Charge</th>\n",
       "      <th>Eve Calls</th>\n",
       "      <th>Eve Charge</th>\n",
       "      <th>Night Calls</th>\n",
       "      <th>Intl Calls</th>\n",
       "      <th>Intl Charge</th>\n",
       "    </tr>\n",
       "  </thead>\n",
       "  <tbody>\n",
       "    <tr>\n",
       "      <th>0</th>\n",
       "      <td>0.755701</td>\n",
       "      <td>0.542755</td>\n",
       "      <td>0.500</td>\n",
       "      <td>0.111111</td>\n",
       "      <td>0.666667</td>\n",
       "      <td>0.755701</td>\n",
       "      <td>0.582353</td>\n",
       "      <td>0.542866</td>\n",
       "      <td>0.408451</td>\n",
       "      <td>0.15</td>\n",
       "      <td>0.500000</td>\n",
       "    </tr>\n",
       "    <tr>\n",
       "      <th>1</th>\n",
       "      <td>0.460661</td>\n",
       "      <td>0.537531</td>\n",
       "      <td>0.685</td>\n",
       "      <td>0.111111</td>\n",
       "      <td>0.745455</td>\n",
       "      <td>0.460597</td>\n",
       "      <td>0.605882</td>\n",
       "      <td>0.537690</td>\n",
       "      <td>0.492958</td>\n",
       "      <td>0.15</td>\n",
       "      <td>0.685185</td>\n",
       "    </tr>\n",
       "    <tr>\n",
       "      <th>2</th>\n",
       "      <td>0.693843</td>\n",
       "      <td>0.333242</td>\n",
       "      <td>0.610</td>\n",
       "      <td>0.000000</td>\n",
       "      <td>0.690909</td>\n",
       "      <td>0.693830</td>\n",
       "      <td>0.647059</td>\n",
       "      <td>0.333225</td>\n",
       "      <td>0.500000</td>\n",
       "      <td>0.25</td>\n",
       "      <td>0.609259</td>\n",
       "    </tr>\n",
       "    <tr>\n",
       "      <th>3</th>\n",
       "      <td>0.853478</td>\n",
       "      <td>0.170195</td>\n",
       "      <td>0.330</td>\n",
       "      <td>0.222222</td>\n",
       "      <td>0.430303</td>\n",
       "      <td>0.853454</td>\n",
       "      <td>0.517647</td>\n",
       "      <td>0.170171</td>\n",
       "      <td>0.394366</td>\n",
       "      <td>0.35</td>\n",
       "      <td>0.329630</td>\n",
       "    </tr>\n",
       "    <tr>\n",
       "      <th>4</th>\n",
       "      <td>0.475200</td>\n",
       "      <td>0.407754</td>\n",
       "      <td>0.505</td>\n",
       "      <td>0.333333</td>\n",
       "      <td>0.684848</td>\n",
       "      <td>0.475184</td>\n",
       "      <td>0.717647</td>\n",
       "      <td>0.407959</td>\n",
       "      <td>0.619718</td>\n",
       "      <td>0.15</td>\n",
       "      <td>0.505556</td>\n",
       "    </tr>\n",
       "  </tbody>\n",
       "</table>\n",
       "</div>"
      ],
      "text/plain": [
       "   Day Mins  Eve Mins  Intl Mins  CustServ Calls  Day Calls  Day Charge  \\\n",
       "0  0.755701  0.542755      0.500        0.111111   0.666667    0.755701   \n",
       "1  0.460661  0.537531      0.685        0.111111   0.745455    0.460597   \n",
       "2  0.693843  0.333242      0.610        0.000000   0.690909    0.693830   \n",
       "3  0.853478  0.170195      0.330        0.222222   0.430303    0.853454   \n",
       "4  0.475200  0.407754      0.505        0.333333   0.684848    0.475184   \n",
       "\n",
       "   Eve Calls  Eve Charge  Night Calls  Intl Calls  Intl Charge  \n",
       "0   0.582353    0.542866     0.408451        0.15     0.500000  \n",
       "1   0.605882    0.537690     0.492958        0.15     0.685185  \n",
       "2   0.647059    0.333225     0.500000        0.25     0.609259  \n",
       "3   0.517647    0.170171     0.394366        0.35     0.329630  \n",
       "4   0.717647    0.407959     0.619718        0.15     0.505556  "
      ]
     },
     "execution_count": 18,
     "metadata": {},
     "output_type": "execute_result"
    }
   ],
   "source": [
    "# Feature scaling to comvert all variables into a same scale #\n",
    "\n",
    "mn_mx = MinMaxScaler()\n",
    "\n",
    "X1 = pd.DataFrame(mn_mx.fit_transform(X_num),columns = X_num.columns)\n",
    "X1.head()\n"
   ]
  },
  {
   "cell_type": "code",
   "execution_count": 19,
   "metadata": {
    "collapsed": false
   },
   "outputs": [
    {
     "data": {
      "text/plain": [
       "array([[ -3.42695305e-01,  -1.83304557e-02,   1.96284184e-02, ...,\n",
       "          8.05451542e-05,   2.03727039e-05,  -2.91357101e-05],\n",
       "       [  8.38477030e-02,  -1.94131573e-01,  -1.46343525e-01, ...,\n",
       "         -6.25109875e-05,   5.22657738e-05,   3.04210130e-05],\n",
       "       [ -2.42934167e-01,  -3.27603142e-01,   1.32933968e-01, ...,\n",
       "          6.10018109e-04,  -5.02099809e-05,  -1.80254026e-05],\n",
       "       ..., \n",
       "       [  1.49376167e-03,   2.23526090e-02,  -4.37934243e-01, ...,\n",
       "         -3.20846107e-04,   4.46060103e-05,  -4.04107761e-05],\n",
       "       [ -1.55313170e-01,   1.59207273e-01,   3.61045142e-01, ...,\n",
       "          9.42917251e-05,   8.44532443e-05,  -4.18800836e-05],\n",
       "       [ -2.14596931e-01,  -3.06906997e-02,  -3.57357395e-01, ...,\n",
       "         -5.18103959e-05,  -3.50945608e-05,  -1.62333279e-05]])"
      ]
     },
     "execution_count": 19,
     "metadata": {},
     "output_type": "execute_result"
    }
   ],
   "source": [
    "# PCA analysis #\n",
    "\n",
    "c = PCA(n_components=11)\n",
    "\n",
    "X_trans = c.fit_transform(X1)\n",
    "X_trans"
   ]
  },
  {
   "cell_type": "code",
   "execution_count": 20,
   "metadata": {
    "collapsed": false
   },
   "outputs": [
    {
     "name": "stdout",
     "output_type": "stream",
     "text": [
      "[  2.29768347e-01   1.87427207e-01   1.83369688e-01   1.01848754e-01\n",
      "   9.02986158e-02   7.21061626e-02   7.01015211e-02   6.50790057e-02\n",
      "   6.72118009e-07   2.07105565e-08   5.48065340e-09]\n"
     ]
    }
   ],
   "source": [
    "# variance explained by each variable #\n",
    "\n",
    "c.explained_variance_\n",
    "\n",
    "# eighen values for each factor #\n",
    "\n",
    "# identifying the proportion of variance explained #\n",
    "\n",
    "print(c.explained_variance_ratio_)"
   ]
  },
  {
   "cell_type": "code",
   "execution_count": 21,
   "metadata": {
    "collapsed": false
   },
   "outputs": [
    {
     "name": "stdout",
     "output_type": "stream",
     "text": [
      "[  22.98   41.72   60.06   70.24   79.27   86.48   93.49  100.    100.\n",
      "  100.    100.  ]\n"
     ]
    }
   ],
   "source": [
    "d = np.cumsum(np.round((c.explained_variance_ratio_)*100,2))\n",
    "print(d)\n",
    "\n",
    "# 11 variables are able to explain 100% of the variance \n",
    "\n",
    "# no. of components = 7"
   ]
  },
  {
   "cell_type": "code",
   "execution_count": 22,
   "metadata": {
    "collapsed": false
   },
   "outputs": [
    {
     "data": {
      "text/plain": [
       "array([[-0.3426953 , -0.01833046,  0.01962842, ..., -0.08163007,\n",
       "        -0.07259177, -0.0565648 ],\n",
       "       [ 0.0838477 , -0.19413157, -0.14634353, ...,  0.01082091,\n",
       "        -0.06428025, -0.14047549],\n",
       "       [-0.24293417, -0.32760314,  0.13293397, ...,  0.00609081,\n",
       "         0.02828315, -0.0643008 ],\n",
       "       ..., \n",
       "       [ 0.00149376,  0.02235261, -0.43793424, ..., -0.06680307,\n",
       "         0.03024148, -0.02741063],\n",
       "       [-0.15531317,  0.15920727,  0.36104514, ...,  0.24759958,\n",
       "         0.27132959, -0.00810424],\n",
       "       [-0.21459693, -0.0306907 , -0.35735739, ..., -0.18784303,\n",
       "        -0.05311492, -0.05206028]])"
      ]
     },
     "execution_count": 22,
     "metadata": {},
     "output_type": "execute_result"
    }
   ],
   "source": [
    "c = PCA(n_components=7)\n",
    "\n",
    "X_trans = c.fit_transform(X1)\n",
    "X_trans"
   ]
  },
  {
   "cell_type": "code",
   "execution_count": 23,
   "metadata": {
    "collapsed": false
   },
   "outputs": [
    {
     "data": {
      "text/html": [
       "<div>\n",
       "<table border=\"1\" class=\"dataframe\">\n",
       "  <thead>\n",
       "    <tr style=\"text-align: right;\">\n",
       "      <th></th>\n",
       "      <th>PC1</th>\n",
       "      <th>PC2</th>\n",
       "      <th>PC3</th>\n",
       "      <th>PC4</th>\n",
       "      <th>PC5</th>\n",
       "      <th>PC6</th>\n",
       "      <th>PC7</th>\n",
       "    </tr>\n",
       "  </thead>\n",
       "  <tbody>\n",
       "    <tr>\n",
       "      <th>0</th>\n",
       "      <td>-0.342695</td>\n",
       "      <td>-0.018330</td>\n",
       "      <td>0.019628</td>\n",
       "      <td>-0.049152</td>\n",
       "      <td>-0.081630</td>\n",
       "      <td>-0.072592</td>\n",
       "      <td>-0.056565</td>\n",
       "    </tr>\n",
       "    <tr>\n",
       "      <th>1</th>\n",
       "      <td>0.083848</td>\n",
       "      <td>-0.194132</td>\n",
       "      <td>-0.146344</td>\n",
       "      <td>-0.064172</td>\n",
       "      <td>0.010821</td>\n",
       "      <td>-0.064280</td>\n",
       "      <td>-0.140475</td>\n",
       "    </tr>\n",
       "    <tr>\n",
       "      <th>2</th>\n",
       "      <td>-0.242934</td>\n",
       "      <td>-0.327603</td>\n",
       "      <td>0.132934</td>\n",
       "      <td>-0.179065</td>\n",
       "      <td>0.006091</td>\n",
       "      <td>0.028283</td>\n",
       "      <td>-0.064301</td>\n",
       "    </tr>\n",
       "    <tr>\n",
       "      <th>3</th>\n",
       "      <td>-0.470930</td>\n",
       "      <td>-0.194724</td>\n",
       "      <td>0.569590</td>\n",
       "      <td>0.050748</td>\n",
       "      <td>-0.071157</td>\n",
       "      <td>0.095068</td>\n",
       "      <td>0.211329</td>\n",
       "    </tr>\n",
       "    <tr>\n",
       "      <th>4</th>\n",
       "      <td>0.056992</td>\n",
       "      <td>-0.125665</td>\n",
       "      <td>0.166406</td>\n",
       "      <td>0.139239</td>\n",
       "      <td>0.160309</td>\n",
       "      <td>-0.031094</td>\n",
       "      <td>-0.106835</td>\n",
       "    </tr>\n",
       "  </tbody>\n",
       "</table>\n",
       "</div>"
      ],
      "text/plain": [
       "        PC1       PC2       PC3       PC4       PC5       PC6       PC7\n",
       "0 -0.342695 -0.018330  0.019628 -0.049152 -0.081630 -0.072592 -0.056565\n",
       "1  0.083848 -0.194132 -0.146344 -0.064172  0.010821 -0.064280 -0.140475\n",
       "2 -0.242934 -0.327603  0.132934 -0.179065  0.006091  0.028283 -0.064301\n",
       "3 -0.470930 -0.194724  0.569590  0.050748 -0.071157  0.095068  0.211329\n",
       "4  0.056992 -0.125665  0.166406  0.139239  0.160309 -0.031094 -0.106835"
      ]
     },
     "execution_count": 23,
     "metadata": {},
     "output_type": "execute_result"
    }
   ],
   "source": [
    "# developing a data frame from this set #\n",
    "\n",
    "X_num1 = pd.DataFrame(X_trans,columns = ['PC1','PC2','PC3','PC4','PC5','PC6','PC7'])\n",
    "\n",
    "X_num1.head()"
   ]
  },
  {
   "cell_type": "code",
   "execution_count": 24,
   "metadata": {
    "collapsed": false
   },
   "outputs": [
    {
     "data": {
      "text/html": [
       "<div>\n",
       "<table border=\"1\" class=\"dataframe\">\n",
       "  <thead>\n",
       "    <tr style=\"text-align: right;\">\n",
       "      <th></th>\n",
       "      <th>Intl Plan</th>\n",
       "      <th>VMail Plan</th>\n",
       "    </tr>\n",
       "  </thead>\n",
       "  <tbody>\n",
       "    <tr>\n",
       "      <th>0</th>\n",
       "      <td>0.0</td>\n",
       "      <td>1.0</td>\n",
       "    </tr>\n",
       "    <tr>\n",
       "      <th>1</th>\n",
       "      <td>0.0</td>\n",
       "      <td>1.0</td>\n",
       "    </tr>\n",
       "    <tr>\n",
       "      <th>2</th>\n",
       "      <td>0.0</td>\n",
       "      <td>0.0</td>\n",
       "    </tr>\n",
       "    <tr>\n",
       "      <th>3</th>\n",
       "      <td>1.0</td>\n",
       "      <td>0.0</td>\n",
       "    </tr>\n",
       "    <tr>\n",
       "      <th>4</th>\n",
       "      <td>1.0</td>\n",
       "      <td>0.0</td>\n",
       "    </tr>\n",
       "  </tbody>\n",
       "</table>\n",
       "</div>"
      ],
      "text/plain": [
       "  Intl Plan VMail Plan\n",
       "0       0.0        1.0\n",
       "1       0.0        1.0\n",
       "2       0.0        0.0\n",
       "3       1.0        0.0\n",
       "4       1.0        0.0"
      ]
     },
     "execution_count": 24,
     "metadata": {},
     "output_type": "execute_result"
    }
   ],
   "source": [
    "cat = X[['Intl Plan','VMail Plan']]\n",
    "len(cat)\n",
    "\n",
    "cat.head()"
   ]
  },
  {
   "cell_type": "code",
   "execution_count": 38,
   "metadata": {
    "collapsed": false
   },
   "outputs": [
    {
     "data": {
      "text/plain": [
       "3333"
      ]
     },
     "execution_count": 38,
     "metadata": {},
     "output_type": "execute_result"
    }
   ],
   "source": [
    "len(X1)"
   ]
  },
  {
   "cell_type": "code",
   "execution_count": 25,
   "metadata": {
    "collapsed": false
   },
   "outputs": [
    {
     "data": {
      "text/html": [
       "<div>\n",
       "<table border=\"1\" class=\"dataframe\">\n",
       "  <thead>\n",
       "    <tr style=\"text-align: right;\">\n",
       "      <th></th>\n",
       "      <th>PC1</th>\n",
       "      <th>PC2</th>\n",
       "      <th>PC3</th>\n",
       "      <th>PC4</th>\n",
       "      <th>PC5</th>\n",
       "      <th>PC6</th>\n",
       "      <th>PC7</th>\n",
       "      <th>Intl Plan</th>\n",
       "      <th>VMail Plan</th>\n",
       "    </tr>\n",
       "  </thead>\n",
       "  <tbody>\n",
       "    <tr>\n",
       "      <th>0</th>\n",
       "      <td>-0.342695</td>\n",
       "      <td>-0.018330</td>\n",
       "      <td>0.019628</td>\n",
       "      <td>-0.049152</td>\n",
       "      <td>-0.081630</td>\n",
       "      <td>-0.072592</td>\n",
       "      <td>-0.056565</td>\n",
       "      <td>0.0</td>\n",
       "      <td>1.0</td>\n",
       "    </tr>\n",
       "    <tr>\n",
       "      <th>1</th>\n",
       "      <td>0.083848</td>\n",
       "      <td>-0.194132</td>\n",
       "      <td>-0.146344</td>\n",
       "      <td>-0.064172</td>\n",
       "      <td>0.010821</td>\n",
       "      <td>-0.064280</td>\n",
       "      <td>-0.140475</td>\n",
       "      <td>0.0</td>\n",
       "      <td>1.0</td>\n",
       "    </tr>\n",
       "    <tr>\n",
       "      <th>2</th>\n",
       "      <td>-0.242934</td>\n",
       "      <td>-0.327603</td>\n",
       "      <td>0.132934</td>\n",
       "      <td>-0.179065</td>\n",
       "      <td>0.006091</td>\n",
       "      <td>0.028283</td>\n",
       "      <td>-0.064301</td>\n",
       "      <td>0.0</td>\n",
       "      <td>0.0</td>\n",
       "    </tr>\n",
       "    <tr>\n",
       "      <th>3</th>\n",
       "      <td>-0.470930</td>\n",
       "      <td>-0.194724</td>\n",
       "      <td>0.569590</td>\n",
       "      <td>0.050748</td>\n",
       "      <td>-0.071157</td>\n",
       "      <td>0.095068</td>\n",
       "      <td>0.211329</td>\n",
       "      <td>1.0</td>\n",
       "      <td>0.0</td>\n",
       "    </tr>\n",
       "    <tr>\n",
       "      <th>4</th>\n",
       "      <td>0.056992</td>\n",
       "      <td>-0.125665</td>\n",
       "      <td>0.166406</td>\n",
       "      <td>0.139239</td>\n",
       "      <td>0.160309</td>\n",
       "      <td>-0.031094</td>\n",
       "      <td>-0.106835</td>\n",
       "      <td>1.0</td>\n",
       "      <td>0.0</td>\n",
       "    </tr>\n",
       "  </tbody>\n",
       "</table>\n",
       "</div>"
      ],
      "text/plain": [
       "        PC1       PC2       PC3       PC4       PC5       PC6       PC7  \\\n",
       "0 -0.342695 -0.018330  0.019628 -0.049152 -0.081630 -0.072592 -0.056565   \n",
       "1  0.083848 -0.194132 -0.146344 -0.064172  0.010821 -0.064280 -0.140475   \n",
       "2 -0.242934 -0.327603  0.132934 -0.179065  0.006091  0.028283 -0.064301   \n",
       "3 -0.470930 -0.194724  0.569590  0.050748 -0.071157  0.095068  0.211329   \n",
       "4  0.056992 -0.125665  0.166406  0.139239  0.160309 -0.031094 -0.106835   \n",
       "\n",
       "  Intl Plan VMail Plan  \n",
       "0       0.0        1.0  \n",
       "1       0.0        1.0  \n",
       "2       0.0        0.0  \n",
       "3       1.0        0.0  \n",
       "4       1.0        0.0  "
      ]
     },
     "execution_count": 25,
     "metadata": {},
     "output_type": "execute_result"
    }
   ],
   "source": [
    "# concatenating the categorical and numerical variables #\n",
    "\n",
    "X_n = pd.concat([X_num1,cat],axis=1)\n",
    "X_n.head()"
   ]
  },
  {
   "cell_type": "code",
   "execution_count": 26,
   "metadata": {
    "collapsed": false
   },
   "outputs": [
    {
     "name": "stdout",
     "output_type": "stream",
     "text": [
      "(2499, 9)\n",
      "(834, 9)\n",
      "(834,)\n",
      "(2499,)\n"
     ]
    }
   ],
   "source": [
    "# splitting the data set into test and train #\n",
    "\n",
    "X_train,X_test,Y_train,Y_test = train_test_split(X_n,y,test_size=0.25,random_state=30)\n",
    "print(X_train.shape)\n",
    "print(X_test.shape)\n",
    "print(Y_test.shape)\n",
    "print(Y_train.shape)"
   ]
  },
  {
   "cell_type": "code",
   "execution_count": 27,
   "metadata": {
    "collapsed": false
   },
   "outputs": [
    {
     "name": "stderr",
     "output_type": "stream",
     "text": [
      "C:\\Users\\PRAYAG\\Anaconda3\\lib\\site-packages\\sklearn\\linear_model\\logistic.py:432: FutureWarning: Default solver will be changed to 'lbfgs' in 0.22. Specify a solver to silence this warning.\n",
      "  FutureWarning)\n"
     ]
    }
   ],
   "source": [
    "# Buildijg the logistic Regression model #\n",
    "\n",
    "lm = LogisticRegression()\n",
    "mo = lm.fit(X_train,Y_train)\n"
   ]
  },
  {
   "cell_type": "code",
   "execution_count": 73,
   "metadata": {
    "collapsed": false
   },
   "outputs": [
    {
     "data": {
      "text/plain": [
       "array([[-0.08228659,  0.70224558,  3.20877859,  0.20334471,  2.72907328,\n",
       "         0.16400867,  1.65410414,  0.04308348,  0.26513417, -1.14503609,\n",
       "         0.78668663, -1.32714437,  1.87592305]])"
      ]
     },
     "execution_count": 73,
     "metadata": {},
     "output_type": "execute_result"
    }
   ],
   "source": [
    "mo.coef_  # (Coefficients of 13 independent variables)"
   ]
  },
  {
   "cell_type": "code",
   "execution_count": 87,
   "metadata": {
    "collapsed": false
   },
   "outputs": [
    {
     "data": {
      "text/plain": [
       "0.0    2850\n",
       "1.0     483\n",
       "Name: Churn, dtype: int64"
      ]
     },
     "execution_count": 87,
     "metadata": {},
     "output_type": "execute_result"
    }
   ],
   "source": [
    "y.value_counts()"
   ]
  },
  {
   "cell_type": "code",
   "execution_count": 28,
   "metadata": {
    "collapsed": false
   },
   "outputs": [
    {
     "name": "stdout",
     "output_type": "stream",
     "text": [
      "0.864123446206601\n",
      "0.866746698679\n"
     ]
    }
   ],
   "source": [
    "# predicting results for train set # \n",
    "\n",
    "from sklearn.metrics import accuracy_score\n",
    "# classification report and confusion matrix #\n",
    "Y_train_pred = mo.predict(X_train)\n",
    "\n",
    "con = confusion_matrix(Y_train_pred,Y_train)\n",
    "con\n",
    "\n",
    "acc = (1966+50)/(1966+50+37+280)\n",
    "print(acc)\n",
    "\n",
    "acc1 = accuracy_score(Y_train_pred,Y_train)\n",
    "print(acc1)\n",
    "\n",
    "# Acc = 0.864 without PCA \n",
    "# Acc = 0.867 with PCA \n"
   ]
  },
  {
   "cell_type": "code",
   "execution_count": 31,
   "metadata": {
    "collapsed": false
   },
   "outputs": [
    {
     "name": "stdout",
     "output_type": "stream",
     "text": [
      "\n",
      "               precision    recall  f1-score   support\n",
      "\n",
      "         0.0       0.98      0.88      0.93      2248\n",
      "         1.0       0.15      0.58      0.24        85\n",
      "\n",
      "   micro avg       0.86      0.86      0.86      2333\n",
      "   macro avg       0.57      0.73      0.58      2333\n",
      "weighted avg       0.95      0.86      0.90      2333\n",
      "\n"
     ]
    }
   ],
   "source": [
    "# classification report for train set #\n",
    "\n",
    "cla = classification_report(Y_train_pred,Y_train)\n",
    "print(\"\\n\",cla)\n"
   ]
  },
  {
   "cell_type": "code",
   "execution_count": 29,
   "metadata": {
    "collapsed": false
   },
   "outputs": [
    {
     "name": "stdout",
     "output_type": "stream",
     "text": [
      "[[695 103]\n",
      " [ 18  18]]\n",
      "0.854\n",
      "0.854916067146\n",
      "\n",
      "               precision    recall  f1-score   support\n",
      "\n",
      "         0.0       0.87      0.97      0.92       713\n",
      "         1.0       0.50      0.15      0.23       121\n",
      "\n",
      "   micro avg       0.85      0.85      0.85       834\n",
      "   macro avg       0.69      0.56      0.57       834\n",
      "weighted avg       0.82      0.85      0.82       834\n",
      "\n"
     ]
    }
   ],
   "source": [
    "# test data set # # Validation of the results#\n",
    "\n",
    "Y_test_pred = mo.predict(X_test)\n",
    "\n",
    "con1 = confusion_matrix(Y_test_pred,Y_test)\n",
    "print(con1)\n",
    "\n",
    "# Acc = 0.854\n",
    "\n",
    "Acc = (834+20)/(834+20+13+133)\n",
    "print(Acc)\n",
    "\n",
    "\n",
    "acc1 = accuracy_score(Y_test_pred,Y_test)\n",
    "\n",
    "print(acc1)\n",
    "# Means the developed model can predict the results with 85.6% accuracy\n",
    "\n",
    "# as the accuracy of test and train are same, model has no overfitting in it #\n",
    "\n",
    "cla1 = classification_report(Y_test,Y_test_pred)\n",
    "print(\"\\n\",cla1)\n",
    "\n",
    "# Acc = 0.854 without PCA \n",
    "# Acc = 0.854 with PCA \n",
    "\n",
    "# So this developed model with an accuracy of 85.4 % accuracy   with threshold of 0.5#\n",
    "\n",
    "# recal = (20)/(20+133) - TPR"
   ]
  },
  {
   "cell_type": "code",
   "execution_count": 31,
   "metadata": {
    "collapsed": true
   },
   "outputs": [],
   "source": [
    "# decision trees #\n",
    "\n",
    "from sklearn.tree import DecisionTreeClassifier"
   ]
  },
  {
   "cell_type": "code",
   "execution_count": 32,
   "metadata": {
    "collapsed": false
   },
   "outputs": [
    {
     "name": "stdout",
     "output_type": "stream",
     "text": [
      "DecisionTreeClassifier(class_weight=None, criterion='gini', max_depth=None,\n",
      "            max_features=None, max_leaf_nodes=None,\n",
      "            min_impurity_decrease=0.0, min_impurity_split=None,\n",
      "            min_samples_leaf=20, min_samples_split=2,\n",
      "            min_weight_fraction_leaf=0.0, presort=False, random_state=None,\n",
      "            splitter='best')\n",
      "0.9412773253321903\n",
      "0.933973589436\n"
     ]
    }
   ],
   "source": [
    "dtc = DecisionTreeClassifier(min_samples_leaf=20)\n",
    "print(dtc)\n",
    "mo = dtc.fit(X_train,Y_train)\n",
    "\n",
    "# parameters to be tunned #\n",
    "# max_depth = 3,4,5\n",
    "#min_samples_split=90,95,100 \n",
    "#max_leaf_nodes = 7,8,10\n",
    "# min_sample_leaf = 30,32,35,80\n",
    "\n",
    "# training set # size =2333\n",
    "\n",
    "y_pred_train = mo.predict(X_train)\n",
    "\n",
    "con = confusion_matrix(y_pred_train,Y_train)\n",
    "\n",
    "con =(1954+242)/(1954+242+88+49)\n",
    "print(con)\n",
    "acc = accuracy_score(y_pred_train,Y_train)\n",
    "print(acc)\n",
    "\n",
    "# PCA accuracy : 0.930"
   ]
  },
  {
   "cell_type": "code",
   "execution_count": 33,
   "metadata": {
    "collapsed": false
   },
   "outputs": [
    {
     "name": "stdout",
     "output_type": "stream",
     "text": [
      "0.921\n",
      "0.929256594724\n"
     ]
    }
   ],
   "source": [
    "# testiong set #\n",
    "\n",
    "y_pred_test = mo.predict(X_test)\n",
    "\n",
    "con = confusion_matrix(y_pred_test,Y_test)\n",
    "con = (813+108)/(813+108+45+34)\n",
    "\n",
    "\n",
    "print(con)\n",
    "\n",
    "acc = accuracy_score(y_pred_test,Y_test)\n",
    "\n",
    "print(acc)\n",
    "\n",
    "\n",
    "# test accuracy score : 0.921\n",
    "\n",
    "# Acc = 0.92 without PCA \n",
    "# Acc = 0.929 with PCA "
   ]
  },
  {
   "cell_type": "code",
   "execution_count": 34,
   "metadata": {
    "collapsed": false
   },
   "outputs": [],
   "source": [
    "# Building the grid search hyper paramter tuning model with Cross validatoon #\n",
    "\n",
    "params = {'criterion':['gini','entropy'],'min_samples_leaf':[14,15,16,20]}"
   ]
  },
  {
   "cell_type": "code",
   "execution_count": 35,
   "metadata": {
    "collapsed": true
   },
   "outputs": [],
   "source": [
    "dtc1 = DecisionTreeClassifier()"
   ]
  },
  {
   "cell_type": "code",
   "execution_count": 160,
   "metadata": {
    "collapsed": false
   },
   "outputs": [
    {
     "data": {
      "text/plain": [
       "DecisionTreeClassifier(class_weight=None, criterion='gini', max_depth=None,\n",
       "            max_features=None, max_leaf_nodes=12,\n",
       "            min_impurity_decrease=0.0, min_impurity_split=None,\n",
       "            min_samples_leaf=1, min_samples_split=2,\n",
       "            min_weight_fraction_leaf=0.0, presort=False, random_state=None,\n",
       "            splitter='best')"
      ]
     },
     "execution_count": 160,
     "metadata": {},
     "output_type": "execute_result"
    }
   ],
   "source": [
    "DecisionTreeClassifier(class_weight=None, criterion='gini', max_depth=None,\n",
    "            max_features=None, max_leaf_nodes=12,\n",
    "            min_impurity_decrease=0.0, min_impurity_split=None,\n",
    "            min_samples_leaf=1, min_samples_split=2,\n",
    "            min_weight_fraction_leaf=0.0, presort=False, random_state=None,\n",
    "            splitter='best')"
   ]
  },
  {
   "cell_type": "code",
   "execution_count": 156,
   "metadata": {
    "collapsed": false
   },
   "outputs": [
    {
     "data": {
      "text/plain": [
       "1    0.0\n",
       "3    0.0\n",
       "5    0.0\n",
       "7    0.0\n",
       "9    0.0\n",
       "Name: Churn, dtype: category\n",
       "Categories (2, float64): [0.0, 1.0]"
      ]
     },
     "execution_count": 156,
     "metadata": {},
     "output_type": "execute_result"
    }
   ],
   "source": [
    "y.head()"
   ]
  },
  {
   "cell_type": "code",
   "execution_count": 36,
   "metadata": {
    "collapsed": false
   },
   "outputs": [],
   "source": [
    "# Hyperparamter tuning #\n",
    "\n",
    "from sklearn.model_selection import GridSearchCV\n",
    "\n",
    "grid = GridSearchCV(dtc1,params,cv=5)\n",
    "\n",
    "mo_gr = grid.fit(X_train,Y_train)"
   ]
  },
  {
   "cell_type": "code",
   "execution_count": 37,
   "metadata": {
    "collapsed": false
   },
   "outputs": [
    {
     "name": "stdout",
     "output_type": "stream",
     "text": [
      "DecisionTreeClassifier(class_weight=None, criterion='gini', max_depth=None,\n",
      "            max_features=None, max_leaf_nodes=None,\n",
      "            min_impurity_decrease=0.0, min_impurity_split=None,\n",
      "            min_samples_leaf=20, min_samples_split=2,\n",
      "            min_weight_fraction_leaf=0.0, presort=False, random_state=None,\n",
      "            splitter='best')\n",
      "{'criterion': 'gini', 'min_samples_leaf': 20}\n",
      "0.919967987195\n"
     ]
    }
   ],
   "source": [
    "print(mo_gr.best_estimator_)\n",
    "\n",
    "print(mo_gr.best_params_)\n",
    "\n",
    "print(mo_gr.best_score_)\n",
    "\n",
    "co = mo_gr.best_estimator_\n",
    "\n",
    "# Acc = 0.9305 without PCA \n",
    "# Acc = 0.9237 with PCA "
   ]
  },
  {
   "cell_type": "code",
   "execution_count": 38,
   "metadata": {
    "collapsed": false
   },
   "outputs": [
    {
     "name": "stdout",
     "output_type": "stream",
     "text": [
      "0.921\n",
      "0.929256594724\n"
     ]
    }
   ],
   "source": [
    "# predicting in test data set #\n",
    "\n",
    "\n",
    "y_pred_test = co.predict(X_test)\n",
    "\n",
    "con = confusion_matrix(y_pred_test,Y_test)\n",
    "con = (813+108)/(813+108+45+34)\n",
    "\n",
    "\n",
    "print(con)\n",
    "\n",
    "acc = accuracy_score(y_pred_test,Y_test)\n",
    "\n",
    "print(acc)\n",
    "\n",
    "# Acc = 0.923 without PCA \n",
    "# Acc = 0.929 with PCA "
   ]
  },
  {
   "cell_type": "code",
   "execution_count": 40,
   "metadata": {
    "collapsed": true
   },
   "outputs": [],
   "source": [
    "from sklearn.ensemble import RandomForestClassifier"
   ]
  },
  {
   "cell_type": "code",
   "execution_count": 41,
   "metadata": {
    "collapsed": false
   },
   "outputs": [
    {
     "name": "stdout",
     "output_type": "stream",
     "text": [
      "RandomForestClassifier(bootstrap=True, class_weight=None, criterion='gini',\n",
      "            max_depth=None, max_features=4, max_leaf_nodes=None,\n",
      "            min_impurity_decrease=0.0, min_impurity_split=None,\n",
      "            min_samples_leaf=10, min_samples_split=2,\n",
      "            min_weight_fraction_leaf=0.0, n_estimators=28, n_jobs=None,\n",
      "            oob_score=False, random_state=None, verbose=0,\n",
      "            warm_start=False)\n",
      "0.951180472189\n"
     ]
    }
   ],
   "source": [
    "# Random Forest #\n",
    "\n",
    "rf = RandomForestClassifier(n_estimators=28,max_features=4,min_samples_leaf=10)\n",
    "print(rf)\n",
    "# trainign data set #\n",
    "\n",
    "mo_rf = rf.fit(X_train,Y_train)\n",
    "\n",
    "y_train_pred = mo_rf.predict(X_train)\n",
    "\n",
    "acc = accuracy_score(y_train_pred,Y_train)\n",
    "\n",
    "print(acc)\n",
    "\n",
    "# tuning the paramters to reduce te overfitting #\n",
    "# parameters to be tunned #\n",
    "# max_depth = 3,4,5\n",
    "#min_samples_split=90,95,100 \n",
    "#max_leaf_nodes = 7,8,10\n",
    "# min_sample_leaf = 30,32,35,80\n",
    "# max_features =2,3,4\n",
    "# n_estimators = 20,25,28\n"
   ]
  },
  {
   "cell_type": "code",
   "execution_count": 42,
   "metadata": {
    "collapsed": false
   },
   "outputs": [
    {
     "name": "stdout",
     "output_type": "stream",
     "text": [
      "0.899\n",
      "0.941247002398\n"
     ]
    }
   ],
   "source": [
    "y_pred_test = mo_rf.predict(X_test)\n",
    "\n",
    "con = confusion_matrix(y_pred_test,Y_test)\n",
    "\n",
    "con = (798+101)/(798+101+49+52)\n",
    "\n",
    "print(con)\n",
    "\n",
    "acc = accuracy_score(y_pred_test,Y_test)\n",
    "\n",
    "print(acc)\n",
    "\n",
    "# Logitic Regression test accuracy: 0.854\n",
    "# decision tree test accuracy: 0.921\n",
    "# random forest test accuracy : 0.9414\n",
    "\n",
    "\n",
    "# as the data set is imbalanced class, so we need to go for stratidied cross validarion to improce tyhwe accueact further #"
   ]
  },
  {
   "cell_type": "code",
   "execution_count": 126,
   "metadata": {
    "collapsed": true
   },
   "outputs": [],
   "source": [
    "# Parameters for tuning #\n",
    "\n",
    "params = {'min_samples_leaf':[10,11,12,13],'n_estimators':[26,27,28,30],'max_features':[3,4]}\n",
    "\n",
    "# max_depth = 3,4,5\n",
    "#min_samples_split=90,95,100 \n",
    "#max_leaf_nodes = 7,8,10\n",
    "# min_sample_leaf = 30,32,35,80\n",
    "# max_features =2,3,4\n",
    "# n_estimators = 20,25,28\n"
   ]
  },
  {
   "cell_type": "code",
   "execution_count": 127,
   "metadata": {
    "collapsed": false
   },
   "outputs": [],
   "source": [
    "# develop a hyper parameter tunned model with cross validation #\n",
    "\n",
    "from sklearn.model_selection import GridSearchCV\n",
    "\n",
    "r = RandomForestClassifier()\n",
    "grid = GridSearchCV(r,params,cv=5)\n",
    "mo_gr = grid.fit(X_train,Y_train)\n"
   ]
  },
  {
   "cell_type": "code",
   "execution_count": 129,
   "metadata": {
    "collapsed": false
   },
   "outputs": [
    {
     "name": "stdout",
     "output_type": "stream",
     "text": [
      "0.929171668667\n",
      "{'max_features': 4, 'n_estimators': 27, 'min_samples_leaf': 10}\n",
      "RandomForestClassifier(bootstrap=True, class_weight=None, criterion='gini',\n",
      "            max_depth=None, max_features=4, max_leaf_nodes=None,\n",
      "            min_impurity_decrease=0.0, min_impurity_split=None,\n",
      "            min_samples_leaf=10, min_samples_split=2,\n",
      "            min_weight_fraction_leaf=0.0, n_estimators=27, n_jobs=None,\n",
      "            oob_score=False, random_state=None, verbose=0,\n",
      "            warm_start=False)\n"
     ]
    }
   ],
   "source": [
    "print(mo_gr.best_score_)\n",
    "print(mo_gr.best_params_)\n",
    "print(mo_gr.best_estimator_)\n",
    "\n",
    "cp = mo_gr.best_estimator_"
   ]
  },
  {
   "cell_type": "code",
   "execution_count": 130,
   "metadata": {
    "collapsed": false
   },
   "outputs": [
    {
     "name": "stdout",
     "output_type": "stream",
     "text": [
      "0.921\n",
      "0.940047961631\n"
     ]
    }
   ],
   "source": [
    "# testing model of random forest #\n",
    "\n",
    "\n",
    "y_pred_test = cp.predict(X_test)\n",
    "\n",
    "con = confusion_matrix(y_pred_test,Y_test)\n",
    "con = (813+108)/(813+108+45+34)\n",
    "\n",
    "\n",
    "print(con)\n",
    "\n",
    "acc = accuracy_score(y_pred_test,Y_test)\n",
    "\n",
    "print(acc)\n",
    "\n",
    "# Accuracy_score : 0.929 with hyperparameter tuning for random forest \n",
    "\n",
    "# Acc = 0.929 without PCA \n",
    "# Acc = 0.940 with PCA  is best accuaracy for this model through Grid Search CV, cross valudation and hyper parameter tunning using Radnome Forest as weak leaner"
   ]
  },
  {
   "cell_type": "code",
   "execution_count": 84,
   "metadata": {
    "collapsed": false
   },
   "outputs": [],
   "source": [
    "# applying tyhe boosting techniques in thjis model #\n",
    "\n",
    "# Using adaboost ckassifier #\n",
    "\n",
    "from sklearn.ensemble import AdaBoostClassifier\n",
    "\n",
    "dt = DecisionTreeClassifier(max_depth=1)\n",
    "\n",
    "ad =  AdaBoostClassifier(n_estimators=1000,base_estimator=dt,learning_rate=0.7)\n",
    "\n",
    "m = ad.fit(X_train,Y_train)\n"
   ]
  },
  {
   "cell_type": "code",
   "execution_count": 85,
   "metadata": {
    "collapsed": false
   },
   "outputs": [
    {
     "data": {
      "text/plain": [
       "0.92597038815526211"
      ]
     },
     "execution_count": 85,
     "metadata": {},
     "output_type": "execute_result"
    }
   ],
   "source": [
    "#  the predicting train set #\n",
    "\n",
    "y_pred_train = m.predict(X_train)\n",
    "\n",
    "sc = accuracy_score(y_pred_train,Y_train)\n",
    "sc"
   ]
  },
  {
   "cell_type": "code",
   "execution_count": 86,
   "metadata": {
    "collapsed": false
   },
   "outputs": [
    {
     "data": {
      "text/plain": [
       "0.86330935251798557"
      ]
     },
     "execution_count": 86,
     "metadata": {},
     "output_type": "execute_result"
    }
   ],
   "source": [
    "# predicting on testing data #\n",
    "\n",
    "y_pred_test = m.predict(X_test)\n",
    "\n",
    "sc = accuracy_score(y_pred_test,Y_test)\n",
    "sc\n"
   ]
  },
  {
   "cell_type": "code",
   "execution_count": 87,
   "metadata": {
    "collapsed": true
   },
   "outputs": [],
   "source": [
    "from sklearn.ensemble import GradientBoostingClassifier"
   ]
  },
  {
   "cell_type": "code",
   "execution_count": 122,
   "metadata": {
    "collapsed": false
   },
   "outputs": [
    {
     "name": "stdout",
     "output_type": "stream",
     "text": [
      "      Iter       Train Loss   Remaining Time \n",
      "         1           0.7365           10.00s\n",
      "         2           0.6812           11.24s\n",
      "         3           0.6372           11.65s\n",
      "         4           0.5988           11.23s\n",
      "         5           0.5677           11.47s\n",
      "         6           0.5420           11.63s\n",
      "         7           0.5212           11.39s\n",
      "         8           0.5031           11.84s\n",
      "         9           0.4862           12.72s\n",
      "        10           0.4668           13.19s\n",
      "        20           0.3630           12.52s\n",
      "        30           0.3077           12.01s\n",
      "        40           0.2697           12.05s\n",
      "        50           0.2367           13.42s\n",
      "        60           0.2136           14.06s\n",
      "        70           0.1966           13.46s\n",
      "        80           0.1815           13.06s\n",
      "        90           0.1674           12.66s\n",
      "       100           0.1571           12.98s\n",
      "       200           0.0799           11.47s\n",
      "       300           0.0440           10.67s\n",
      "       400           0.0259           10.04s\n",
      "       500           0.0159            9.50s\n",
      "       600           0.0097            8.97s\n",
      "       700           0.0060            8.54s\n",
      "       800           0.0037            8.10s\n",
      "       900           0.0022            7.81s\n",
      "      1000           0.0013            7.66s\n",
      "      2000           0.0003            1.98s\n"
     ]
    }
   ],
   "source": [
    "# Gradient boosting technique #\n",
    "\n",
    "gclf = GradientBoostingClassifier(n_estimators=2500,verbose=True,max_depth=4)\n",
    "\n",
    "mo = gclf.fit(X_train,Y_train)"
   ]
  },
  {
   "cell_type": "code",
   "execution_count": 123,
   "metadata": {
    "collapsed": false
   },
   "outputs": [
    {
     "data": {
      "text/plain": [
       "1.0"
      ]
     },
     "execution_count": 123,
     "metadata": {},
     "output_type": "execute_result"
    }
   ],
   "source": [
    "#  the predicting train set #\n",
    "\n",
    "y_pred_train = mo.predict(X_train)\n",
    "\n",
    "sc = accuracy_score(y_pred_train,Y_train)\n",
    "sc"
   ]
  },
  {
   "cell_type": "code",
   "execution_count": 124,
   "metadata": {
    "collapsed": false
   },
   "outputs": [
    {
     "data": {
      "text/plain": [
       "0.94724220623501199"
      ]
     },
     "execution_count": 124,
     "metadata": {},
     "output_type": "execute_result"
    }
   ],
   "source": [
    "# testing data set #\n",
    "\n",
    "y_pred_test = mo.predict(X_test)\n",
    "\n",
    "sc = accuracy_score(y_pred_test,Y_test)\n",
    "sc"
   ]
  },
  {
   "cell_type": "code",
   "execution_count": 59,
   "metadata": {
    "collapsed": true
   },
   "outputs": [],
   "source": [
    "# support vector machine #\n",
    "\n",
    "from sklearn.svm import SVC\n",
    "\n",
    "sv = SVC(C=500,degree=3,coef0=10,gamma='scale',kernel='poly')\n",
    "\n",
    "mo_s = sv.fit(X_train,Y_train)\n",
    "\n"
   ]
  },
  {
   "cell_type": "code",
   "execution_count": 60,
   "metadata": {
    "collapsed": false
   },
   "outputs": [
    {
     "name": "stdout",
     "output_type": "stream",
     "text": [
      "0.933973589436\n"
     ]
    }
   ],
   "source": [
    "# training set #\n",
    "\n",
    "y_train_pred = mo_s.predict(X_train)\n",
    "\n",
    "# accuracy #\n",
    "\n",
    "acc = accuracy_score(y_pred_train,Y_train)\n",
    "\n",
    "print(acc)"
   ]
  },
  {
   "cell_type": "code",
   "execution_count": 62,
   "metadata": {
    "collapsed": false
   },
   "outputs": [
    {
     "name": "stdout",
     "output_type": "stream",
     "text": [
      "0.9448441247\n"
     ]
    }
   ],
   "source": [
    "#testing set #\n",
    "\n",
    "y_test_pred = mo_s.predict(X_test)\n",
    "\n",
    "# accuracy #\n",
    "\n",
    "acc = accuracy_score(y_pred_test,Y_test)\n",
    "\n",
    "print(acc)"
   ]
  },
  {
   "cell_type": "code",
   "execution_count": 77,
   "metadata": {
    "collapsed": false
   },
   "outputs": [
    {
     "name": "stdout",
     "output_type": "stream",
     "text": [
      "Train: [ 663  664  665 ..., 3330 3331 3332] Validation: [  0   1   2   3   4   5   6   7   8   9  10  11  12  13  14  15  16  17\n",
      "  18  19  20  21  22  23  24  25  26  27  28  29  30  31  32  33  34  35\n",
      "  36  37  38  39  40  41  42  43  44  45  46  47  48  49  50  51  52  53\n",
      "  54  55  56  57  58  59  60  61  62  63  64  65  66  67  68  69  70  71\n",
      "  72  73  74  75  76  77  78  79  80  81  82  83  84  85  86  87  88  89\n",
      "  90  91  92  93  94  95  96  97  98  99 100 101 102 103 104 105 106 107\n",
      " 108 109 110 111 112 113 114 115 116 117 118 119 120 121 122 123 124 125\n",
      " 126 127 128 129 130 131 132 133 134 135 136 137 138 139 140 141 142 143\n",
      " 144 145 146 147 148 149 150 151 152 153 154 155 156 157 158 159 160 161\n",
      " 162 163 164 165 166 167 168 169 170 171 172 173 174 175 176 177 178 179\n",
      " 180 181 182 183 184 185 186 187 188 189 190 191 192 193 194 195 196 197\n",
      " 198 199 200 201 202 203 204 205 206 207 208 209 210 211 212 213 214 215\n",
      " 216 217 218 219 220 221 222 223 224 225 226 227 228 229 230 231 232 233\n",
      " 234 235 236 237 238 239 240 241 242 243 244 245 246 247 248 249 250 251\n",
      " 252 253 254 255 256 257 258 259 260 261 262 263 264 265 266 267 268 269\n",
      " 270 271 272 273 274 275 276 277 278 279 280 281 282 283 284 285 286 287\n",
      " 288 289 290 291 292 293 294 295 296 297 298 299 300 301 302 303 304 305\n",
      " 306 307 308 309 310 311 312 313 314 315 316 317 318 319 320 321 322 323\n",
      " 324 325 326 327 328 329 330 331 332 333 334 335 336 337 338 339 340 341\n",
      " 342 343 344 345 346 347 348 349 350 351 352 353 354 355 356 357 358 359\n",
      " 360 361 362 363 364 365 366 367 368 369 370 371 372 373 374 375 376 377\n",
      " 378 379 380 381 382 383 384 385 386 387 388 389 390 391 392 393 394 395\n",
      " 396 397 398 399 400 401 402 403 404 405 406 407 408 409 410 411 412 413\n",
      " 414 415 416 417 418 419 420 421 422 423 424 425 426 427 428 429 430 431\n",
      " 432 433 434 435 436 437 438 439 440 441 442 443 444 445 446 447 448 449\n",
      " 450 451 452 453 454 455 456 457 458 459 460 461 462 463 464 465 466 467\n",
      " 468 469 470 471 472 473 474 475 476 477 478 479 480 481 482 483 484 485\n",
      " 486 487 488 489 490 491 492 493 494 495 496 497 498 499 500 501 502 503\n",
      " 504 505 506 507 508 509 510 511 512 513 514 515 516 517 518 519 520 521\n",
      " 522 523 524 525 526 527 528 529 530 531 532 533 534 535 536 537 538 539\n",
      " 540 541 542 543 544 545 546 547 548 549 550 551 552 553 554 555 556 557\n",
      " 558 559 560 561 562 563 564 565 566 567 568 569 570 571 572 573 574 575\n",
      " 576 577 578 579 580 581 582 583 584 585 586 587 588 589 590 591 592 593\n",
      " 594 595 596 597 598 599 600 601 602 603 604 605 606 607 608 609 610 611\n",
      " 612 613 614 615 616 617 618 619 620 621 622 623 624 625 626 627 628 629\n",
      " 630 631 632 633 634 635 636 637 638 639 640 641 642 643 644 645 646 647\n",
      " 648 649 650 651 652 653 654 655 656 657 658 659 660 661 662 679 715 721\n",
      " 730]\n",
      "Train: [   0    1    2 ..., 3330 3331 3332] Validation: [ 663  664  665  666  667  668  669  670  671  672  673  674  675  676  677\n",
      "  678  680  681  682  683  684  685  686  687  688  689  690  691  692  693\n",
      "  694  695  696  697  698  699  700  701  702  703  704  705  706  707  708\n",
      "  709  710  711  712  713  714  716  717  718  719  720  722  723  724  725\n",
      "  726  727  728  729  731  732  733  734  735  736  737  738  739  740  741\n",
      "  742  743  744  745  746  747  748  749  750  751  752  753  754  755  756\n",
      "  757  758  759  760  761  762  763  764  765  766  767  768  769  770  771\n",
      "  772  773  774  775  776  777  778  779  780  781  782  783  784  785  786\n",
      "  787  788  789  790  791  792  793  794  795  796  797  798  799  800  801\n",
      "  802  803  804  805  806  807  808  809  810  811  812  813  814  815  816\n",
      "  817  818  819  820  821  822  823  824  825  826  827  828  829  830  831\n",
      "  832  833  834  835  836  837  838  839  840  841  842  843  844  845  846\n",
      "  847  848  849  850  851  852  853  854  855  856  857  858  859  860  861\n",
      "  862  863  864  865  866  867  868  869  870  871  872  873  874  875  876\n",
      "  877  878  879  880  881  882  883  884  885  886  887  888  889  890  891\n",
      "  892  893  894  895  896  897  898  899  900  901  902  903  904  905  906\n",
      "  907  908  909  910  911  912  913  914  915  916  917  918  919  920  921\n",
      "  922  923  924  925  926  927  928  929  930  931  932  933  934  935  936\n",
      "  937  938  939  940  941  942  943  944  945  946  947  948  949  950  951\n",
      "  952  953  954  955  956  957  958  959  960  961  962  963  964  965  966\n",
      "  967  968  969  970  971  972  973  974  975  976  977  978  979  980  981\n",
      "  982  983  984  985  986  987  988  989  990  991  992  993  994  995  996\n",
      "  997  998  999 1000 1001 1002 1003 1004 1005 1006 1007 1008 1009 1010 1011\n",
      " 1012 1013 1014 1015 1016 1017 1018 1019 1020 1021 1022 1023 1024 1025 1026\n",
      " 1027 1028 1029 1030 1031 1032 1033 1034 1035 1036 1037 1038 1039 1040 1041\n",
      " 1042 1043 1044 1045 1046 1047 1048 1049 1050 1051 1052 1053 1054 1055 1056\n",
      " 1057 1058 1059 1060 1061 1062 1063 1064 1065 1066 1067 1068 1069 1070 1071\n",
      " 1072 1073 1074 1075 1076 1077 1078 1079 1080 1081 1082 1083 1084 1085 1086\n",
      " 1087 1088 1089 1090 1091 1092 1093 1094 1095 1096 1097 1098 1099 1100 1101\n",
      " 1102 1103 1104 1105 1106 1107 1108 1109 1110 1111 1112 1113 1114 1115 1116\n",
      " 1117 1118 1119 1120 1121 1122 1123 1124 1125 1126 1127 1128 1129 1130 1131\n",
      " 1132 1133 1134 1135 1136 1137 1138 1139 1140 1141 1142 1143 1144 1145 1146\n",
      " 1147 1148 1149 1150 1151 1152 1153 1154 1155 1156 1157 1158 1159 1160 1161\n",
      " 1162 1163 1164 1165 1166 1167 1168 1169 1170 1171 1172 1173 1174 1175 1176\n",
      " 1177 1178 1179 1180 1181 1182 1183 1184 1185 1186 1187 1188 1189 1190 1191\n",
      " 1192 1193 1194 1195 1196 1197 1198 1199 1200 1201 1202 1203 1204 1205 1206\n",
      " 1207 1208 1209 1210 1211 1212 1213 1214 1215 1216 1217 1218 1219 1220 1221\n",
      " 1222 1223 1224 1225 1226 1227 1228 1229 1230 1231 1232 1233 1234 1235 1236\n",
      " 1237 1238 1239 1240 1241 1242 1243 1244 1245 1246 1247 1248 1249 1250 1251\n",
      " 1252 1253 1254 1255 1256 1257 1258 1259 1260 1261 1262 1263 1264 1265 1266\n",
      " 1267 1268 1269 1270 1271 1272 1273 1274 1275 1276 1277 1278 1279 1280 1281\n",
      " 1282 1283 1284 1285 1286 1287 1288 1289 1290 1291 1292 1293 1294 1295 1296\n",
      " 1297 1298 1299 1300 1301 1302 1306 1310 1322 1325 1327 1334 1337 1339 1344\n",
      " 1345 1346 1350 1359 1364 1373 1376 1392 1405 1407 1420 1435 1442 1454 1467\n",
      " 1472 1484 1493 1516 1528 1530 1531]\n",
      "Train: [   0    1    2 ..., 3330 3331 3332] Validation: [1303 1304 1305 1307 1308 1309 1311 1312 1313 1314 1315 1316 1317 1318 1319\n",
      " 1320 1321 1323 1324 1326 1328 1329 1330 1331 1332 1333 1335 1336 1338 1340\n",
      " 1341 1342 1343 1347 1348 1349 1351 1352 1353 1354 1355 1356 1357 1358 1360\n",
      " 1361 1362 1363 1365 1366 1367 1368 1369 1370 1371 1372 1374 1375 1377 1378\n",
      " 1379 1380 1381 1382 1383 1384 1385 1386 1387 1388 1389 1390 1391 1393 1394\n",
      " 1395 1396 1397 1398 1399 1400 1401 1402 1403 1404 1406 1408 1409 1410 1411\n",
      " 1412 1413 1414 1415 1416 1417 1418 1419 1421 1422 1423 1424 1425 1426 1427\n",
      " 1428 1429 1430 1431 1432 1433 1434 1436 1437 1438 1439 1440 1441 1443 1444\n",
      " 1445 1446 1447 1448 1449 1450 1451 1452 1453 1455 1456 1457 1458 1459 1460\n",
      " 1461 1462 1463 1464 1465 1466 1468 1469 1470 1471 1473 1474 1475 1476 1477\n",
      " 1478 1479 1480 1481 1482 1483 1485 1486 1487 1488 1489 1490 1491 1492 1494\n",
      " 1495 1496 1497 1498 1499 1500 1501 1502 1503 1504 1505 1506 1507 1508 1509\n",
      " 1510 1511 1512 1513 1514 1515 1517 1518 1519 1520 1521 1522 1523 1524 1525\n",
      " 1526 1527 1529 1532 1533 1534 1535 1536 1537 1538 1539 1540 1541 1542 1543\n",
      " 1544 1545 1546 1547 1548 1549 1550 1551 1552 1553 1554 1555 1556 1557 1558\n",
      " 1559 1560 1561 1562 1563 1564 1565 1566 1567 1568 1569 1570 1571 1572 1573\n",
      " 1574 1575 1576 1577 1578 1579 1580 1581 1582 1583 1584 1585 1586 1587 1588\n",
      " 1589 1590 1591 1592 1593 1594 1595 1596 1597 1598 1599 1600 1601 1602 1603\n",
      " 1604 1605 1606 1607 1608 1609 1610 1611 1612 1613 1614 1615 1616 1617 1618\n",
      " 1619 1620 1621 1622 1623 1624 1625 1626 1627 1628 1629 1630 1631 1632 1633\n",
      " 1634 1635 1636 1637 1638 1639 1640 1641 1642 1643 1644 1645 1646 1647 1648\n",
      " 1649 1650 1651 1652 1653 1654 1655 1656 1657 1658 1659 1660 1661 1662 1663\n",
      " 1664 1665 1666 1667 1668 1669 1670 1671 1672 1673 1674 1675 1676 1677 1678\n",
      " 1679 1680 1681 1682 1683 1684 1685 1686 1687 1688 1689 1690 1691 1692 1693\n",
      " 1694 1695 1696 1697 1698 1699 1700 1701 1702 1703 1704 1705 1706 1707 1708\n",
      " 1709 1710 1711 1712 1713 1714 1715 1716 1717 1718 1719 1720 1721 1722 1723\n",
      " 1724 1725 1726 1727 1728 1729 1730 1731 1732 1733 1734 1735 1736 1737 1738\n",
      " 1739 1740 1741 1742 1743 1744 1745 1746 1747 1748 1749 1750 1751 1752 1753\n",
      " 1754 1755 1756 1757 1758 1759 1760 1761 1762 1763 1764 1765 1766 1767 1768\n",
      " 1769 1770 1771 1772 1773 1774 1775 1776 1777 1778 1779 1780 1781 1782 1783\n",
      " 1784 1785 1786 1787 1788 1789 1790 1791 1792 1793 1794 1795 1796 1797 1798\n",
      " 1799 1800 1801 1802 1803 1804 1805 1806 1807 1808 1809 1810 1811 1812 1813\n",
      " 1814 1815 1816 1817 1818 1819 1820 1821 1822 1823 1824 1825 1826 1827 1828\n",
      " 1829 1830 1831 1832 1833 1834 1835 1836 1837 1838 1839 1840 1841 1842 1843\n",
      " 1844 1845 1846 1847 1848 1849 1850 1851 1852 1853 1854 1855 1856 1857 1858\n",
      " 1859 1860 1861 1862 1863 1864 1865 1866 1867 1868 1869 1870 1871 1872 1873\n",
      " 1874 1875 1876 1877 1878 1879 1880 1881 1882 1883 1884 1885 1886 1887 1888\n",
      " 1889 1890 1891 1892 1893 1894 1895 1896 1897 1898 1899 1900 1901 1902 1903\n",
      " 1904 1905 1906 1907 1908 1909 1910 1911 1912 1913 1914 1915 1916 1917 1918\n",
      " 1919 1920 1921 1922 1923 1924 1925 1926 1927 1928 1929 1930 1931 1932 1933\n",
      " 1934 1935 1936 1937 1938 1939 1940 1941 1942 1943 1944 1945 1946 1947 1948\n",
      " 1949 1950 1951 1952 1953 1954 1955 1956 1957 1958 1959 1960 1961 1962 1963\n",
      " 1964 1965 1966 1967 1968 1969 1970 1971 1972 1973 1974 1975 1976 1977 1978\n",
      " 1979 1980 1984 2001 2028 2029 2033 2038 2059 2069 2076 2099 2103 2106 2107\n",
      " 2112 2113 2115 2118 2119 2139 2142]\n",
      "Train: [   0    1    2 ..., 3330 3331 3332] Validation: [1981 1982 1983 1985 1986 1987 1988 1989 1990 1991 1992 1993 1994 1995 1996\n",
      " 1997 1998 1999 2000 2002 2003 2004 2005 2006 2007 2008 2009 2010 2011 2012\n",
      " 2013 2014 2015 2016 2017 2018 2019 2020 2021 2022 2023 2024 2025 2026 2027\n",
      " 2030 2031 2032 2034 2035 2036 2037 2039 2040 2041 2042 2043 2044 2045 2046\n",
      " 2047 2048 2049 2050 2051 2052 2053 2054 2055 2056 2057 2058 2060 2061 2062\n",
      " 2063 2064 2065 2066 2067 2068 2070 2071 2072 2073 2074 2075 2077 2078 2079\n",
      " 2080 2081 2082 2083 2084 2085 2086 2087 2088 2089 2090 2091 2092 2093 2094\n",
      " 2095 2096 2097 2098 2100 2101 2102 2104 2105 2108 2109 2110 2111 2114 2116\n",
      " 2117 2120 2121 2122 2123 2124 2125 2126 2127 2128 2129 2130 2131 2132 2133\n",
      " 2134 2135 2136 2137 2138 2140 2141 2143 2144 2145 2146 2147 2148 2149 2150\n",
      " 2151 2152 2153 2154 2155 2156 2157 2158 2159 2160 2161 2162 2163 2164 2165\n",
      " 2166 2167 2168 2169 2170 2171 2172 2173 2174 2175 2176 2177 2178 2179 2180\n",
      " 2181 2182 2183 2184 2185 2186 2187 2188 2189 2190 2191 2192 2193 2194 2195\n",
      " 2196 2197 2198 2199 2200 2201 2202 2203 2204 2205 2206 2207 2208 2209 2210\n",
      " 2211 2212 2213 2214 2215 2216 2217 2218 2219 2220 2221 2222 2223 2224 2225\n",
      " 2226 2227 2228 2229 2230 2231 2232 2233 2234 2235 2236 2237 2238 2239 2240\n",
      " 2241 2242 2243 2244 2245 2246 2247 2248 2249 2250 2251 2252 2253 2254 2255\n",
      " 2256 2257 2258 2259 2260 2261 2262 2263 2264 2265 2266 2267 2268 2269 2270\n",
      " 2271 2272 2273 2274 2275 2276 2277 2278 2279 2280 2281 2282 2283 2284 2285\n",
      " 2286 2287 2288 2289 2290 2291 2292 2293 2294 2295 2296 2297 2298 2299 2300\n",
      " 2301 2302 2303 2304 2305 2306 2307 2308 2309 2310 2311 2312 2313 2314 2315\n",
      " 2316 2317 2318 2319 2320 2321 2322 2323 2324 2325 2326 2327 2328 2329 2330\n",
      " 2331 2332 2333 2334 2335 2336 2337 2338 2339 2340 2341 2342 2343 2344 2345\n",
      " 2346 2347 2348 2349 2350 2351 2352 2353 2354 2355 2356 2357 2358 2359 2360\n",
      " 2361 2362 2363 2364 2365 2366 2367 2368 2369 2370 2371 2372 2373 2374 2375\n",
      " 2376 2377 2378 2379 2380 2381 2382 2383 2384 2385 2386 2387 2388 2389 2390\n",
      " 2391 2392 2393 2394 2395 2396 2397 2398 2399 2400 2401 2402 2403 2404 2405\n",
      " 2406 2407 2408 2409 2410 2411 2412 2413 2414 2415 2416 2417 2418 2419 2420\n",
      " 2421 2422 2423 2424 2425 2426 2427 2428 2429 2430 2431 2432 2433 2434 2435\n",
      " 2436 2437 2438 2439 2440 2441 2442 2443 2444 2445 2446 2447 2448 2449 2450\n",
      " 2451 2452 2453 2454 2455 2456 2457 2458 2459 2460 2461 2462 2463 2464 2465\n",
      " 2466 2467 2468 2469 2470 2471 2472 2473 2474 2475 2476 2477 2478 2479 2480\n",
      " 2481 2482 2483 2484 2485 2486 2487 2488 2489 2490 2491 2492 2493 2494 2495\n",
      " 2496 2497 2498 2499 2500 2501 2502 2503 2504 2505 2506 2507 2508 2509 2510\n",
      " 2511 2512 2513 2514 2515 2516 2517 2518 2519 2520 2521 2522 2523 2524 2525\n",
      " 2526 2527 2528 2529 2530 2531 2532 2533 2534 2535 2536 2537 2538 2539 2540\n",
      " 2541 2542 2543 2544 2545 2546 2547 2548 2549 2550 2551 2552 2553 2554 2555\n",
      " 2556 2557 2558 2559 2560 2561 2562 2563 2564 2565 2566 2567 2568 2569 2570\n",
      " 2571 2572 2573 2574 2575 2576 2577 2578 2579 2580 2581 2582 2583 2584 2585\n",
      " 2586 2587 2588 2589 2590 2591 2592 2593 2594 2595 2596 2597 2598 2599 2600\n",
      " 2601 2602 2603 2604 2605 2606 2607 2608 2609 2610 2611 2612 2613 2614 2615\n",
      " 2616 2617 2618 2619 2620 2621 2622 2623 2624 2625 2626 2627 2628 2629 2630\n",
      " 2631 2632 2633 2634 2635 2636 2637 2638 2639 2640 2641 2642 2643 2644 2645\n",
      " 2646 2647 2648 2649 2650 2660 2662 2664 2666 2672 2673 2677 2681 2687 2694\n",
      " 2696 2700 2708 2710 2724 2731]\n",
      "Train: [   0    1    2 ..., 2710 2724 2731] Validation: [2651 2652 2653 2654 2655 2656 2657 2658 2659 2661 2663 2665 2667 2668 2669\n",
      " 2670 2671 2674 2675 2676 2678 2679 2680 2682 2683 2684 2685 2686 2688 2689\n",
      " 2690 2691 2692 2693 2695 2697 2698 2699 2701 2702 2703 2704 2705 2706 2707\n",
      " 2709 2711 2712 2713 2714 2715 2716 2717 2718 2719 2720 2721 2722 2723 2725\n",
      " 2726 2727 2728 2729 2730 2732 2733 2734 2735 2736 2737 2738 2739 2740 2741\n",
      " 2742 2743 2744 2745 2746 2747 2748 2749 2750 2751 2752 2753 2754 2755 2756\n",
      " 2757 2758 2759 2760 2761 2762 2763 2764 2765 2766 2767 2768 2769 2770 2771\n",
      " 2772 2773 2774 2775 2776 2777 2778 2779 2780 2781 2782 2783 2784 2785 2786\n",
      " 2787 2788 2789 2790 2791 2792 2793 2794 2795 2796 2797 2798 2799 2800 2801\n",
      " 2802 2803 2804 2805 2806 2807 2808 2809 2810 2811 2812 2813 2814 2815 2816\n",
      " 2817 2818 2819 2820 2821 2822 2823 2824 2825 2826 2827 2828 2829 2830 2831\n",
      " 2832 2833 2834 2835 2836 2837 2838 2839 2840 2841 2842 2843 2844 2845 2846\n",
      " 2847 2848 2849 2850 2851 2852 2853 2854 2855 2856 2857 2858 2859 2860 2861\n",
      " 2862 2863 2864 2865 2866 2867 2868 2869 2870 2871 2872 2873 2874 2875 2876\n",
      " 2877 2878 2879 2880 2881 2882 2883 2884 2885 2886 2887 2888 2889 2890 2891\n",
      " 2892 2893 2894 2895 2896 2897 2898 2899 2900 2901 2902 2903 2904 2905 2906\n",
      " 2907 2908 2909 2910 2911 2912 2913 2914 2915 2916 2917 2918 2919 2920 2921\n",
      " 2922 2923 2924 2925 2926 2927 2928 2929 2930 2931 2932 2933 2934 2935 2936\n",
      " 2937 2938 2939 2940 2941 2942 2943 2944 2945 2946 2947 2948 2949 2950 2951\n",
      " 2952 2953 2954 2955 2956 2957 2958 2959 2960 2961 2962 2963 2964 2965 2966\n",
      " 2967 2968 2969 2970 2971 2972 2973 2974 2975 2976 2977 2978 2979 2980 2981\n",
      " 2982 2983 2984 2985 2986 2987 2988 2989 2990 2991 2992 2993 2994 2995 2996\n",
      " 2997 2998 2999 3000 3001 3002 3003 3004 3005 3006 3007 3008 3009 3010 3011\n",
      " 3012 3013 3014 3015 3016 3017 3018 3019 3020 3021 3022 3023 3024 3025 3026\n",
      " 3027 3028 3029 3030 3031 3032 3033 3034 3035 3036 3037 3038 3039 3040 3041\n",
      " 3042 3043 3044 3045 3046 3047 3048 3049 3050 3051 3052 3053 3054 3055 3056\n",
      " 3057 3058 3059 3060 3061 3062 3063 3064 3065 3066 3067 3068 3069 3070 3071\n",
      " 3072 3073 3074 3075 3076 3077 3078 3079 3080 3081 3082 3083 3084 3085 3086\n",
      " 3087 3088 3089 3090 3091 3092 3093 3094 3095 3096 3097 3098 3099 3100 3101\n",
      " 3102 3103 3104 3105 3106 3107 3108 3109 3110 3111 3112 3113 3114 3115 3116\n",
      " 3117 3118 3119 3120 3121 3122 3123 3124 3125 3126 3127 3128 3129 3130 3131\n",
      " 3132 3133 3134 3135 3136 3137 3138 3139 3140 3141 3142 3143 3144 3145 3146\n",
      " 3147 3148 3149 3150 3151 3152 3153 3154 3155 3156 3157 3158 3159 3160 3161\n",
      " 3162 3163 3164 3165 3166 3167 3168 3169 3170 3171 3172 3173 3174 3175 3176\n",
      " 3177 3178 3179 3180 3181 3182 3183 3184 3185 3186 3187 3188 3189 3190 3191\n",
      " 3192 3193 3194 3195 3196 3197 3198 3199 3200 3201 3202 3203 3204 3205 3206\n",
      " 3207 3208 3209 3210 3211 3212 3213 3214 3215 3216 3217 3218 3219 3220 3221\n",
      " 3222 3223 3224 3225 3226 3227 3228 3229 3230 3231 3232 3233 3234 3235 3236\n",
      " 3237 3238 3239 3240 3241 3242 3243 3244 3245 3246 3247 3248 3249 3250 3251\n",
      " 3252 3253 3254 3255 3256 3257 3258 3259 3260 3261 3262 3263 3264 3265 3266\n",
      " 3267 3268 3269 3270 3271 3272 3273 3274 3275 3276 3277 3278 3279 3280 3281\n",
      " 3282 3283 3284 3285 3286 3287 3288 3289 3290 3291 3292 3293 3294 3295 3296\n",
      " 3297 3298 3299 3300 3301 3302 3303 3304 3305 3306 3307 3308 3309 3310 3311\n",
      " 3312 3313 3314 3315 3316 3317 3318 3319 3320 3321 3322 3323 3324 3325 3326\n",
      " 3327 3328 3329 3330 3331 3332]\n"
     ]
    }
   ],
   "source": [
    "# Stratified k fold cross vcalidation # : as the data is imbalanced \n",
    "\n",
    "from sklearn.model_selection import StratifiedKFold\n",
    "skf = StratifiedKFold(n_splits=5, random_state=None)\n",
    "# X is the feature set and y is the target\n",
    "for train_index, test_index in skf.split(X_n,y): \n",
    "    print(\"Train:\", train_index, \"Validation:\", test_index) \n",
    "    X1_train, X1_test = X_n.iloc[train_index], X_n.iloc[test_index] \n",
    "    Y1_train, Y1_test = y.iloc[train_index], y.iloc[test_index]"
   ]
  },
  {
   "cell_type": "code",
   "execution_count": 78,
   "metadata": {
    "collapsed": false
   },
   "outputs": [
    {
     "name": "stdout",
     "output_type": "stream",
     "text": [
      "(2667, 9)\n",
      "(666, 9)\n",
      "(2667,)\n",
      "(666,)\n"
     ]
    }
   ],
   "source": [
    "# data sets with proporyion of both the classes #\n",
    "\n",
    "print(X1_train.shape)\n",
    "print(X1_test.shape)\n",
    "print(Y1_train.shape)\n",
    "print(Y1_test.shape)"
   ]
  },
  {
   "cell_type": "code",
   "execution_count": 64,
   "metadata": {
    "collapsed": true
   },
   "outputs": [],
   "source": [
    "rf1 = RandomForestClassifier()"
   ]
  },
  {
   "cell_type": "code",
   "execution_count": 109,
   "metadata": {
    "collapsed": true
   },
   "outputs": [],
   "source": [
    "# Building the model with Random Forest Hyper paramter tunung #\n",
    "\n",
    "param_grid = {'criterion':['entropy','gini'],'n_estimators':[26,27,28],'max_features':[3,4],'min_samples_leaf':[10,11]}\n",
    "\n",
    "# estimators = no. of trees  = no. of observations/100 \n",
    "# no. of features = sqrt(variables) = sqrt(17) = 4\n",
    "# applying yhe grid search cv and cross validation #,\n",
    "\n",
    "grid1 = GridSearchCV(rf1, param_grid, cv=skf, scoring='accuracy')\n",
    "# es = 13,14,25,27,28\n",
    "\n",
    "# 'min_samples_leaf':[10,11,12,15,18,20] "
   ]
  },
  {
   "cell_type": "code",
   "execution_count": 90,
   "metadata": {
    "collapsed": false
   },
   "outputs": [],
   "source": [
    "from sklearn.model_selection import GridSearchCV\n",
    "\n",
    "mo_gr = grid1.fit(X1_train,Y1_train)"
   ]
  },
  {
   "cell_type": "code",
   "execution_count": 91,
   "metadata": {
    "collapsed": false
   },
   "outputs": [
    {
     "name": "stdout",
     "output_type": "stream",
     "text": [
      "0.933633295838\n",
      "{'criterion': 'gini', 'max_features': 4, 'n_estimators': 29, 'min_samples_leaf': 10}\n",
      "RandomForestClassifier(bootstrap=True, class_weight=None, criterion='gini',\n",
      "            max_depth=None, max_features=4, max_leaf_nodes=None,\n",
      "            min_impurity_decrease=0.0, min_impurity_split=None,\n",
      "            min_samples_leaf=10, min_samples_split=2,\n",
      "            min_weight_fraction_leaf=0.0, n_estimators=29, n_jobs=None,\n",
      "            oob_score=False, random_state=None, verbose=0,\n",
      "            warm_start=False)\n"
     ]
    }
   ],
   "source": [
    "print(mo_gr.best_score_)\n",
    "print(mo_gr.best_params_)\n",
    "print(mo_gr.best_estimator_)\n",
    "cp = mo_gr.best_estimator_"
   ]
  },
  {
   "cell_type": "code",
   "execution_count": 92,
   "metadata": {
    "collapsed": false
   },
   "outputs": [
    {
     "data": {
      "text/plain": [
       "0.9516310461192351"
      ]
     },
     "execution_count": 92,
     "metadata": {},
     "output_type": "execute_result"
    }
   ],
   "source": [
    "# predicting the X_train #\n",
    "y_pred_train = cp.predict(X1_train)\n",
    "acc = accuracy_score(y_pred_train,Y1_train)\n",
    "acc"
   ]
  },
  {
   "cell_type": "code",
   "execution_count": 93,
   "metadata": {
    "collapsed": false,
    "scrolled": false
   },
   "outputs": [
    {
     "data": {
      "text/plain": [
       "0.93693693693693691"
      ]
     },
     "execution_count": 93,
     "metadata": {},
     "output_type": "execute_result"
    }
   ],
   "source": [
    "# predicting the X_test #\n",
    "\n",
    "y_pred = cp.predict(X1_test)\n",
    "acc = accuracy_score(y_pred,Y1_test)\n",
    "acc\n",
    "\n",
    "# Random Forest and Decision trees, it handles mutli collinearity and outliers, so we need not to remove any variables, instead applying PCA which handles collinearity  #\n",
    "\n",
    "# WIhtout PCA #\n",
    "\n",
    "# Logitic Regression test accuracy: 0.854\n",
    "\n",
    "# decision tree test accuracy: 0.921\n",
    "# decision tree test accuracy with gridsearch CV: 0.923\n",
    "\n",
    "# random forest test accuracy : 0.927\n",
    "# random forest test accuracy with gridsearch CV: 0.929\n",
    "\n",
    "\n",
    "# With PCA #\n",
    "\n",
    "# Logitic Regression test accuracy: 0.854\n",
    "\n",
    "# decision tree test accuracy: 0.929\n",
    "# decision tree test accuracy with gridsearch CV: 0.929\n",
    "\n",
    "# random forest test accuracy : 0.944\n",
    "# random forest test accuracy with gridsearch CV: 0.94 - best accuracy for this model\n",
    "\n",
    "# Random Forest test accuracy with stratifed cross validation & grid search CV : 0.936 \n",
    "\n",
    "# 0.940 - best accuracy for this model (94.0% accuracy for churn)\n",
    "\n",
    "# we can follow 2 approaches:\n",
    "# remove insignificant variables (visualization) , drop correlated variabkes and apply hyper paramtet tuning, grid search CV\n",
    "# better approach - remove insignificant variables (visualization) and apply PCA (reduce variables) aliong with apply hyper paramtet tuning, grid search K fold CV or stratified\n"
   ]
  }
 ],
 "metadata": {
  "anaconda-cloud": {},
  "kernelspec": {
   "display_name": "Python [default]",
   "language": "python",
   "name": "python3"
  },
  "language_info": {
   "codemirror_mode": {
    "name": "ipython",
    "version": 3
   },
   "file_extension": ".py",
   "mimetype": "text/x-python",
   "name": "python",
   "nbconvert_exporter": "python",
   "pygments_lexer": "ipython3",
   "version": "3.5.6"
  }
 },
 "nbformat": 4,
 "nbformat_minor": 1
}
